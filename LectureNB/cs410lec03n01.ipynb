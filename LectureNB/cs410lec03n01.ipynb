{
 "cells": [
  {
   "cell_type": "markdown",
   "metadata": {
    "deletable": true,
    "editable": true
   },
   "source": [
    "# Dot Product to Projection to Rotation\n",
    "This notebook illustrates the dot product in 2D as a projection onto a basis vector. This approach to understanding rotation is preferable to standard trigonometry heavy approaches because it develops a key intuition for establishing 2D and 3D reference frames in terms of desired directions rather than angles and trig. functions\n",
    "\n",
    "Ross Beveridge\n",
    "August 28, 2017\n",
    "\n",
    "As will be common in these notebooks, the next sequence of commands configure options for running the notebook such as how to display math, etc."
   ]
  },
  {
   "cell_type": "code",
   "execution_count": 9,
   "metadata": {
    "collapsed": true,
    "deletable": true,
    "editable": true
   },
   "outputs": [],
   "source": [
    "%display latex\n",
    "latex.matrix_delimiters(left='|', right='|')\n",
    "latex.vector_delimiters(left='[', right=']')"
   ]
  },
  {
   "cell_type": "markdown",
   "metadata": {
    "deletable": true,
    "editable": true
   },
   "source": [
    "The next block of codes create two vectors, u and v, that are each of unit length and also perpendicular (orthogona).  Already note that the direction of the 'horizontal' axis defined by the basis vector u is initially specified by picking to arbitrary scalars. Here you see what is meant above by not ever thinking about angles (no thetas here)."
   ]
  },
  {
   "cell_type": "code",
   "execution_count": 10,
   "metadata": {
    "collapsed": false,
    "deletable": true,
    "editable": true
   },
   "outputs": [
    {
     "data": {
      "text/html": [
       "<html><script type=\"math/tex; mode=display\">\\newcommand{\\Bold}[1]{\\mathbf{#1}}\\left(\\left[\\frac{5}{29} \\, \\sqrt{29},\\,-\\frac{2}{29} \\, \\sqrt{29}\\right], \\left[\\frac{2}{29} \\, \\sqrt{29},\\,\\frac{5}{29} \\, \\sqrt{29}\\right]\\right)</script></html>"
      ],
      "text/plain": [
       "((5/29*sqrt(29), -2/29*sqrt(29)), (2/29*sqrt(29), 5/29*sqrt(29)))"
      ]
     },
     "execution_count": 10,
     "metadata": {},
     "output_type": "execute_result"
    }
   ],
   "source": [
    "u = vector([5,-2])\n",
    "u = 1/u.norm() * u\n",
    "v = vector([-u[1],u[0]])\n",
    "u, v"
   ]
  },
  {
   "cell_type": "markdown",
   "metadata": {
    "deletable": true,
    "editable": true
   },
   "source": [
    "Just to confirm, notice the dot product confirms orthogonality"
   ]
  },
  {
   "cell_type": "code",
   "execution_count": 11,
   "metadata": {
    "collapsed": false,
    "deletable": true,
    "editable": true
   },
   "outputs": [
    {
     "data": {
      "text/html": [
       "<html><script type=\"math/tex; mode=display\">\\newcommand{\\Bold}[1]{\\mathbf{#1}}0</script></html>"
      ],
      "text/plain": [
       "0"
      ]
     },
     "execution_count": 11,
     "metadata": {},
     "output_type": "execute_result"
    }
   ],
   "source": [
    "v.dot_product(u)"
   ]
  },
  {
   "cell_type": "markdown",
   "metadata": {
    "deletable": true,
    "editable": true
   },
   "source": [
    "To illustrate project it is handy to create object.  Specifically, a polygon defined by six points that form an asymetric shape.  This asymmetry will prove useful as we use this shape in future examples illustrating different types of 2D transformations."
   ]
  },
  {
   "cell_type": "code",
   "execution_count": 12,
   "metadata": {
    "collapsed": true,
    "deletable": true,
    "editable": true
   },
   "outputs": [],
   "source": [
    "el = matrix([[1,1],[3,1],[3,2],[2,2],[2,4],[1,4]])\n",
    "el.transpose()\n",
    "gel = polygon(list(el),color='green')"
   ]
  },
  {
   "cell_type": "code",
   "execution_count": 13,
   "metadata": {
    "collapsed": false,
    "deletable": true,
    "editable": true
   },
   "outputs": [
    {
     "data": {
      "image/png": "[encoded data removed]",
      "text/plain": [
       "Graphics object consisting of 5 graphics primitives"
      ]
     },
     "metadata": {},
     "output_type": "display_data"
    }
   ],
   "source": [
    "bnd = 5.0\n",
    "gu = arrow((0,0),u)\n",
    "gv = arrow((0,0),v)\n",
    "gud = line([(0,0),bnd*u], linestyle=\"-.\")\n",
    "gvd = line([(0,0),bnd*v], linestyle=\"-.\")\n",
    "gos = gu + gv + gud + gvd + gel\n",
    "gos.show(xmin=-bnd, ymin=-bnd, xmax=bnd, ymax=bnd, aspect_ratio=1)"
   ]
  },
  {
   "cell_type": "markdown",
   "metadata": {
    "deletable": true,
    "editable": true
   },
   "source": [
    "We are now ready to 'see' how this polygon appears in the u,v reference frame.  That means projecting each point in the polygon onto the u and the v unit length basis vectors. But, and this is key, keep in mind that one way to compute a dot product is to multiply a row vector times a column vector.  Also, if we can do this for a single column vector, we can do it for six column vectors by placing them - one column at a time - into a matrix.  So, below you see first all the u-axis coordinates of the projected polygon and then on the next line all the v-axis coordinates of the polygon."
   ]
  },
  {
   "cell_type": "code",
   "execution_count": 14,
   "metadata": {
    "collapsed": false,
    "deletable": true,
    "editable": true
   },
   "outputs": [
    {
     "data": {
      "text/html": [
       "<html><script type=\"math/tex; mode=display\">\\newcommand{\\Bold}[1]{\\mathbf{#1}}\\left[\\frac{5}{29} \\, \\sqrt{29},\\,-\\frac{2}{29} \\, \\sqrt{29}\\right] \\left|\\begin{array}{rrrrrr}\n",
       "1 & 3 & 3 & 2 & 2 & 1 \\\\\n",
       "1 & 1 & 2 & 2 & 4 & 4\n",
       "\\end{array}\\right| \\verb|=| \\left[\\frac{3}{29} \\, \\sqrt{29},\\,\\frac{13}{29} \\, \\sqrt{29},\\,\\frac{11}{29} \\, \\sqrt{29},\\,\\frac{6}{29} \\, \\sqrt{29},\\,\\frac{2}{29} \\, \\sqrt{29},\\,-\\frac{3}{29} \\, \\sqrt{29}\\right]</script></html>"
      ],
      "text/plain": [
       "(5/29*sqrt(29), -2/29*sqrt(29)) [1 3 3 2 2 1]\n",
       "[1 1 2 2 4 4] '=' (3/29*sqrt(29), 13/29*sqrt(29), 11/29*sqrt(29), 6/29*sqrt(29), 2/29*sqrt(29), -3/29*sqrt(29))"
      ]
     },
     "metadata": {},
     "output_type": "display_data"
    },
    {
     "data": {
      "text/html": [
       "<html><script type=\"math/tex; mode=display\">\\newcommand{\\Bold}[1]{\\mathbf{#1}}\\left[\\frac{2}{29} \\, \\sqrt{29},\\,\\frac{5}{29} \\, \\sqrt{29}\\right] \\left|\\begin{array}{rrrrrr}\n",
       "1 & 3 & 3 & 2 & 2 & 1 \\\\\n",
       "1 & 1 & 2 & 2 & 4 & 4\n",
       "\\end{array}\\right| \\verb|=| \\left[\\frac{7}{29} \\, \\sqrt{29},\\,\\frac{11}{29} \\, \\sqrt{29},\\,\\frac{16}{29} \\, \\sqrt{29},\\,\\frac{14}{29} \\, \\sqrt{29},\\,\\frac{24}{29} \\, \\sqrt{29},\\,\\frac{22}{29} \\, \\sqrt{29}\\right]</script></html>"
      ],
      "text/plain": [
       "(2/29*sqrt(29), 5/29*sqrt(29)) [1 3 3 2 2 1]\n",
       "[1 1 2 2 4 4] '=' (7/29*sqrt(29), 11/29*sqrt(29), 16/29*sqrt(29), 14/29*sqrt(29), 24/29*sqrt(29), 22/29*sqrt(29))"
      ]
     },
     "metadata": {},
     "output_type": "display_data"
    }
   ],
   "source": [
    "pretty_print(u,el.transpose(),\"=\",u*el.transpose())\n",
    "pretty_print(v,el.transpose(),\"=\",v*el.transpose())"
   ]
  },
  {
   "cell_type": "markdown",
   "metadata": {
    "deletable": true,
    "editable": true
   },
   "source": [
    "Only one more liner algebraic simplification.  There is no good reason to do these steps seperately.  Placing the basis vectors u and v into the top and bottom row of a matrix lets us accomplish the entire operation in a single matrix multiplication."
   ]
  },
  {
   "cell_type": "code",
   "execution_count": 15,
   "metadata": {
    "collapsed": false,
    "deletable": true,
    "editable": true
   },
   "outputs": [
    {
     "data": {
      "text/html": [
       "<html><script type=\"math/tex; mode=display\">\\newcommand{\\Bold}[1]{\\mathbf{#1}}\\left|\\begin{array}{rr}\n",
       "\\frac{5}{29} \\, \\sqrt{29} & -\\frac{2}{29} \\, \\sqrt{29} \\\\\n",
       "\\frac{2}{29} \\, \\sqrt{29} & \\frac{5}{29} \\, \\sqrt{29}\n",
       "\\end{array}\\right| \\left|\\begin{array}{rrrrrr}\n",
       "1 & 3 & 3 & 2 & 2 & 1 \\\\\n",
       "1 & 1 & 2 & 2 & 4 & 4\n",
       "\\end{array}\\right| \\verb|=| \\left|\\begin{array}{rrrrrr}\n",
       "\\frac{3}{29} \\, \\sqrt{29} & \\frac{13}{29} \\, \\sqrt{29} & \\frac{11}{29} \\, \\sqrt{29} & \\frac{6}{29} \\, \\sqrt{29} & \\frac{2}{29} \\, \\sqrt{29} & -\\frac{3}{29} \\, \\sqrt{29} \\\\\n",
       "\\frac{7}{29} \\, \\sqrt{29} & \\frac{11}{29} \\, \\sqrt{29} & \\frac{16}{29} \\, \\sqrt{29} & \\frac{14}{29} \\, \\sqrt{29} & \\frac{24}{29} \\, \\sqrt{29} & \\frac{22}{29} \\, \\sqrt{29}\n",
       "\\end{array}\\right|</script></html>"
      ],
      "text/plain": [
       "[ 5/29*sqrt(29) -2/29*sqrt(29)]\n",
       "[ 2/29*sqrt(29)  5/29*sqrt(29)] [1 3 3 2 2 1]\n",
       "[1 1 2 2 4 4] '=' [ 3/29*sqrt(29) 13/29*sqrt(29) 11/29*sqrt(29)  6/29*sqrt(29)  2/29*sqrt(29) -3/29*sqrt(29)]\n",
       "[ 7/29*sqrt(29) 11/29*sqrt(29) 16/29*sqrt(29) 14/29*sqrt(29) 24/29*sqrt(29) 22/29*sqrt(29)]"
      ]
     },
     "metadata": {},
     "output_type": "display_data"
    }
   ],
   "source": [
    "MM = matrix(2,2,[u,v])\n",
    "eluv = MM*el.transpose()\n",
    "pretty_print(MM,el.transpose(),\"=\",eluv)"
   ]
  },
  {
   "cell_type": "markdown",
   "metadata": {
    "deletable": true,
    "editable": true
   },
   "source": [
    "Now we can plot the polygon as it appears when the u-axis is treated as the horizontal axis and the v-axis is treated as the vertical axis."
   ]
  },
  {
   "cell_type": "code",
   "execution_count": 16,
   "metadata": {
    "collapsed": false,
    "deletable": true,
    "editable": true
   },
   "outputs": [
    {
     "data": {
      "image/png": "[encoded data removed]",
      "text/plain": [
       "Graphics object consisting of 1 graphics primitive"
      ]
     },
     "metadata": {},
     "output_type": "display_data"
    }
   ],
   "source": [
    "bnd = 5.0\n",
    "gel = polygon(list(eluv.transpose()),color='orange')\n",
    "gos = gel\n",
    "gos.show(xmin=-bnd, ymin=-bnd, xmax=bnd, ymax=bnd, aspect_ratio=1)"
   ]
  }
 ],
 "metadata": {
  "kernelspec": {
   "display_name": "SageMath 8.0",
   "language": "",
   "name": "sagemath"
  },
  "language_info": {
   "codemirror_mode": {
    "name": "ipython",
    "version": 2
   },
   "file_extension": ".py",
   "mimetype": "text/x-python",
   "name": "python",
   "nbconvert_exporter": "python",
   "pygments_lexer": "ipython2",
   "version": "2.7.13"
  }
 },
 "nbformat": 4,
 "nbformat_minor": 2
}
