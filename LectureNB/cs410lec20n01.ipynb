{
 "cells": [
  {
   "cell_type": "markdown",
   "metadata": {
    "deletable": true,
    "editable": true
   },
   "source": [
    "<h2 style=\"text-align: center;\">Illumination with Reflection for Spheres: Updated 2</h2>\n",
    "<h3 style=\"text-align: center;\">Ross Beveridge, October 31, 2017</h3>\n",
    "\n",
    "<p>This notebook is similar released on October 24. However, at least one minor bug has been fixed and a before/after presentation is inluded that demonstrates the nature of the bug.</p>\n",
    "<p>Specfically, the bug concerns omission of a check for the case where the vector pointing back to the camera and the reflection ray used to compute a specular highlight are nearly anti-parallel.  In short, failure to test for and ignore this case least to a 'halo' around the edge of the sphere. \n",
    "</p>"
   ]
  },
  {
   "cell_type": "code",
   "execution_count": 1,
   "metadata": {
    "collapsed": false,
    "deletable": true,
    "editable": true
   },
   "outputs": [],
   "source": [
    "import numpy as np\n",
    "from sage.repl.image import Image\n",
    "from sage.plot.plot3d.shapes import *\n",
    "from sage.plot.plot3d.base import SHOW_DEFAULTS\n",
    "SHOW_DEFAULTS['aspect_ratio'] = (1,1,1)\n",
    "SHOW_DEFAULTS['frame_aspect_ratio'] = (1,1,1)\n",
    "SHOW_DEFAULTS['perspective_depth'] = false"
   ]
  },
  {
   "cell_type": "markdown",
   "metadata": {
    "deletable": true,
    "editable": true
   },
   "source": [
    "<p>Earlier versions of this worksheet attempted to avoid full on Object Oriented Programming.  Afterall, the purpose of these Notebooks are simple illustrations rather than complete programs.  </p>\n",
    "<p>However, there comes a point, and illuminating a multiple object scene with multiple light sources and with recursive ray tracing, where it is better to adimt this Notebook is a program of moderate complexity. Thereore, much of the start of this Notebook is setting up object classes to make the rest of the illustration simple.</p>\n",
    "<p>The first object class models a camera.  Note that the three camera basis vectors are now calcculated as part of object construction. These vectors are constructed based upon any value sequence of three numbers passed into the constructor.</p>\n",
    "<p>Also important for efficiency reasons is the inclusion and use of the numpy python library.  While the SageMath array and vector classes are handy for many purposes, most particularly mixing symbolic and numeric computation, this generality comes with a performance hit. </p>\n",
    "<p>Another minor design choice.  The left, right, bottom and top bounds of the image plane are passed into the constructor as a tuple but then unpacked to make access to the min-max bounds on each dimension easier.</p>"
   ]
  },
  {
   "cell_type": "code",
   "execution_count": 2,
   "metadata": {
    "collapsed": false,
    "deletable": true,
    "editable": true
   },
   "outputs": [],
   "source": [
    "def make_unit(x) :\n",
    "    return x / np.linalg.norm(x)\n",
    "    \n",
    "class Camera :\n",
    "    def __init__(self, eye, look, up, bnds, near, far, width, height) :\n",
    "        self.eye   = np.array(eye)\n",
    "        self.look  = np.array(look)\n",
    "        self.up    = np.array(up)\n",
    "        self.umin  = bnds[0]\n",
    "        self.umax  = bnds[1]\n",
    "        self.vmin  = bnds[2]\n",
    "        self.vmax  = bnds[3]\n",
    "        self.near  = near\n",
    "        self.far   = far\n",
    "        self.width = width\n",
    "        self.height = height\n",
    "        self.setupUVW()\n",
    "        \n",
    "    def setupUVW(self) :\n",
    "        Wv = make_unit(self.eye - self.look)   \n",
    "        Uv = make_unit(np.cross(self.up, Wv))    \n",
    "        self.V = np.cross(Wv,Uv)\n",
    "        self.U = Uv\n",
    "        self.W = Wv"
   ]
  },
  {
   "cell_type": "markdown",
   "metadata": {
    "deletable": true,
    "editable": true
   },
   "source": [
    "<p>The object class used for spheres is named 'globe' in order to avoid name collisions.  In particular, there is already a sphere function defined in the context of 3D graphics.  Note the relationship between spheres and materials is captured by an integer index into a materials list. Hence, each globe includes this 'pointer' to the globe's material properties in the form of an integer index.   </p>\n",
    "<p>The material object stores the illumination constants which in turn determine the visual appearance of a material.  The first three are standard: ambient, diffuse and specular.  The last is the reflection constant. It generally is used to attenuate the strength of reflections during successive recursive calls.  </p>\n",
    "<p>The lights include a location and also an illumination strength - intensity</p>"
   ]
  },
  {
   "cell_type": "code",
   "execution_count": 3,
   "metadata": {
    "collapsed": false,
    "deletable": true,
    "editable": true
   },
   "outputs": [],
   "source": [
    "class Globe :\n",
    "    def __init__(self, c, r, m) :\n",
    "        self.C = np.array(c)       # Sphere center as a vector\n",
    "        self.r = float(r)          # Sphere radius\n",
    "        self.m = m                 # Index for sphere's material\n",
    "\n",
    "class Material : \n",
    "    def __init__(self, a, d, s, r) :\n",
    "        self.ka = np.array(a)\n",
    "        self.kd = np.array(d)\n",
    "        self.ks = np.array(s)\n",
    "        self.kr = np.array(r)\n",
    "       \n",
    "class Light :\n",
    "    def __init__(self, p, e) :\n",
    "        self.P = np.array(p)\n",
    "        self.E = np.array(e)"
   ]
  },
  {
   "cell_type": "markdown",
   "metadata": {
    "deletable": true,
    "editable": true
   },
   "source": [
    "<p>The ray class follows our standard definition of a ray as point of origination, L, and a direction D. </p>\n",
    "<p>The ray object also provides a means of keeping track of the closet sphere yet found.  </p>\n",
    "<p>There are a variety of ways to think about this process, but perhaps the simplest is caching. Much of the work done in ray tracing involves finding interesections between rays and obejcts; after going to all that effort, it is wise to keep the best result.  In other words the closest object.  Note the initialization value for the best - i.e. closest - sphere is None and remains none if that paticular ray never intersects a sphere.  </p>"
   ]
  },
  {
   "cell_type": "code",
   "execution_count": 4,
   "metadata": {
    "collapsed": false,
    "deletable": true,
    "editable": true
   },
   "outputs": [],
   "source": [
    "class Ray :\n",
    "    def __init__(self, L, D) :\n",
    "        self.L = np.array(L)\n",
    "        self.D = make_unit(np.array(D))\n",
    "        self.best_t   = float('inf')\n",
    "        self.best_sph = None\n",
    "        self.best_pt  = None\n",
    "       \n",
    "    def sphere_test(self, sph) :\n",
    "        Tv   = np.array(sph.C - self.L)\n",
    "        v    = np.dot(Tv, self.D)\n",
    "        csq  = np.dot(Tv, Tv)\n",
    "        disc = sph.r^2 - (csq - v^2)\n",
    "        if (disc > 0) :\n",
    "            tval = v - sqrt(disc)\n",
    "            if (tval < self.best_t) and (tval > 0.00001) :\n",
    "                self.best_t   = tval\n",
    "                self.best_sph = sph\n",
    "                self.best_pt  = self.L + tval * self.D       \n",
    "            return True\n",
    "        else :\n",
    "            return False"
   ]
  },
  {
   "cell_type": "markdown",
   "metadata": {
    "deletable": true,
    "editable": true
   },
   "source": [
    "<h2 style=\"text-align: center;\">Customizable Scene Description</h2>\n",
    "<p>The actual instanciations of cameras, lights, materials and objects follow.  </p>\n",
    "<p>There are two cameras intensionally identical up to, but not include, pixel resolution.  This allow the Notebook to provide an interactive 3D model of the entire scene as well as to render at a typically much higher resolution ray traced scene.</p>\n",
    "<p>The scene is described by a combination of one ambient light source, a list of point light sources, a list of materials and a list of objects. All of these, materials, lights and objects, are implemented using the classes defined above. </p>"
   ]
  },
  {
   "cell_type": "code",
   "execution_count": 5,
   "metadata": {
    "collapsed": false,
    "deletable": true,
    "editable": true
   },
   "outputs": [],
   "source": [
    "# There are two versions of the camera, identical but for resolution. First is for\n",
    "# 3D model and the second is for using ray tracing to produce the ray traced image.\n",
    "#\n",
    "# The next camera creates a square image with all three globes in view\n",
    "#cam1 = Camera((50,50,100),(50,50,10),(0,1,0),(-2.5,2.5,-2.5,2.5),-5,-100,8,8)\n",
    "# The next camera tightens the field of view to show mostly the center globe. \n",
    "cam1 = Camera((50,50,75),(50,50,10),(0,1,0),(-1.8,1.8,-1.8,1.8),-5,-100,8,8)\n",
    "\n",
    "cam2 = copy(cam1); \n",
    "cam2.width  = 512\n",
    "cam2.height = 512\n",
    "\n",
    "#mats = [Material((0.2, 0.2, 0.2),(1.0, 1.0, 1.0),(0.5, 0.5, 0.5),(0.9, 0.9, 0.9)),\n",
    "#        Material((0.7, 0.6, 0.2),(0.7, 0.6, 0.2),(0.5, 0.5, 0.5),(0.9, 0.9, 0.9)),\n",
    "#        Material((0.2, 0.7, 0.2),(0.2, 0.7, 0.2),(0.5, 0.5, 0.5),(0.9, 0.9, 0.9))] \n",
    "        \n",
    "mats = [Material((0.0, 0.0, 0.0),(0.0, 0.0, 0.0),(1.0, 1.0, 1.0),(0.9, 0.9, 0.9))] \n",
    "                \n",
    "#lgts = [Light((10,10,100),(0.5, 0.5, 0.5)),Light((90,90,100),(0.5, 0.5, 0.5))] \n",
    "lgts = [Light((10,10,100),(2.0, 2.0, 2.0))] \n",
    "#ambi = vector(RR, 3, (0.2, 0.2, 0.2))          \n",
    "ambi = vector(RR, 3, (0.0, 0.0, 0.0))    \n",
    "        \n",
    "objs = [Globe((50,50,20), 18, 0)]"
   ]
  },
  {
   "cell_type": "markdown",
   "metadata": {
    "deletable": true,
    "editable": true
   },
   "source": [
    "<p>Visualizing in 3D the relative position of different objects, light sources, and the camera can be difficult.  Here the power of the Sage Notebook 3D drawing package is utilized to setup a 3D model of the scene.</p>\n",
    "<p>A small point about naming conventions used here: the text 'go_' infront of a variable name means 'graphics object' and 'gol' means graphics object list.  This naming convention helps keep distinct the objects being drawn as part of the 3D scene visualization as opposed to objects directly associated with ray recursive ray tracing that follows the 3D visualization.</p>\n",
    "\n",
    "<p>The next 3D visualization is extermely hepful as you try to work out in your head the relationships between the camera field of view, the object, and the light sources. Note the pixel resolution, typically 8x8, used in this 3D interactive fgure comes from camera object number one.</p>\n",
    "\n",
    "<p>The code below is the heart of the multi-object (spheres) ray tracing algorithm.   The first function take an argument which is a list where results of the test for intersection with a single ray and object (sphere) is stored. </p>\n",
    "<p>The ray trace function takes four arguments:</p>\n",
    "<ul>\n",
    "<li>The first is a ray.  </li>\n",
    "<li>The second is a vector to which red, green and blue illumination is added.  Initial call should set to np.array([0.0, 0.0, 0.0]).</li>\n",
    "<li>The third is a reflection attenuation.  For a ray leaving a pixel the attenutation is vector(RR, 3,  (1.0, 1.0, 1.0)).  Otherwise it will be the refection constants for the material.</li>\n",
    "<li>The fourth is a reflection level, i.e. a counter used to terminate recursion after say one 'bounce', two 'bounces, etc.  </li>\n",
    "</ul>\n",
    "<p>In this Notebook the scene properties are treated as global properties.  </p>\n",
    "<p>The logic inside ray trace may be summarizes as:</p>\n",
    "<ul>\n",
    "<li>Find closest surface to intersect ray, if any.  If no intersection leave the color accumulator unchanged and return.</li>\n",
    "<li>Calcualte the ambient, diffuse and specular illumination components for the point of intersection.  Add these to the color accumulator.</li>\n",
    "<li>Test if the recursion level is greater than zero, and if so call ray trace with level decremented and the reflection attenutation multiplied by the reflection constants for the current material. </li>\n",
    "</ul>\n",
    "<p>As a convenience the ray trace function always returns the color accumulator.  Note this is handy if the initial value is built in the first call. However, if the color accumulator is named and used by name in the first call this return feature is not necessary. </p>"
   ]
  },
  {
   "cell_type": "code",
   "execution_count": 6,
   "metadata": {
    "collapsed": false,
    "deletable": true,
    "editable": true
   },
   "outputs": [],
   "source": [
    "def pixel_ray(i, j, c) :\n",
    "    px = RR(i/(c.width  - 1)*(c.umax - c.umin) + c.umin)\n",
    "    py = RR(j/(c.height - 1)*(c.vmax - c.vmin) + c.vmin)\n",
    "    Lv = c.eye + (c.near * c.W) + (px * c.U) + (py * c.V)\n",
    "    Dv = Lv - c.eye\n",
    "    return Ray(Lv, Dv)\n",
    "    \n",
    "def ray_find(ray) :\n",
    "    for s in objs :\n",
    "        ray.sphere_test(s)\n",
    "    return ray.best_sph\n",
    "    \n",
    "def ray_trace_good(ray, accum, refatt) :\n",
    "    if (ray_find(ray) != None) :\n",
    "        N   = make_unit(ray.best_pt - ray.best_sph.C)\n",
    "        mat = mats[ray.best_sph.m]\n",
    "        color = ambi * mat.ka\n",
    "        toC = -1 * ray.D\n",
    "        for lt in lgts :    \n",
    "            toL   = make_unit(lt.P - ray.best_pt)  \n",
    "            NdotL = np.dot(N,toL)\n",
    "            if (NdotL > 0.0) :\n",
    "                color += mat.kd * lt.E * NdotL\n",
    "                spR  = make_unit((2 * NdotL * N) - toL)\n",
    "                CdR  = np.dot(toC, spR)\n",
    "                if (CdR > 0.0) :\n",
    "                    color += (mat.ks * lt.E) * CdR**16\n",
    "        accum += refatt * color\n",
    "    return accum\n",
    "    \n",
    "def ray_trace(ray, accum, refatt, level) :\n",
    "    if (ray_find(ray) != None) :\n",
    "        N   = make_unit(ray.best_pt - ray.best_sph.C)\n",
    "        mat = mats[ray.best_sph.m]\n",
    "        color = ambi * mat.ka\n",
    "        toC = -1 * ray.D\n",
    "        for lt in lgts :    \n",
    "            toL   = make_unit(lt.P - ray.best_pt)  \n",
    "            NdotL = np.dot(N,toL)\n",
    "            if (NdotL > 0.0) :\n",
    "                color += mat.kd * lt.E * NdotL\n",
    "                spR  = make_unit((2 * NdotL * N) - toL)\n",
    "                CdR  = np.dot(toC, spR)\n",
    "                if (CdR > 0.0) :\n",
    "                    color += (mat.ks * lt.E) * CdR**16\n",
    "        for i in range(3) : accum[i] += refatt[i] * color[i]\n",
    "        if (level > 0) :\n",
    "            refR = make_unit((2 * np.dot(N, toC) * N) - toC)\n",
    "            ray_trace(Ray(ray.best_pt, refR), accum, mat.kr * refatt, (level - 1))\n",
    "    return accum\n",
    "\n",
    "def ray_trace(ray, accum, refatt, level) :\n",
    "    if (ray_find(ray) != None) :\n",
    "        N   = make_unit(ray.best_pt - ray.best_sph.C)\n",
    "        mat = mats[ray.best_sph.m]\n",
    "        color = ambi * mat.ka\n",
    "        for lt in lgts :    \n",
    "            toL   = make_unit(lt.P - ray.best_pt)  \n",
    "            NdotL = np.dot(N,toL)\n",
    "            if (NdotL > 0.0) :\n",
    "                color += mat.kd * lt.E * NdotL\n",
    "                toC    = make_unit(ray.L - ray.best_pt)\n",
    "                spR    = make_unit((2 * NdotL * N) - toL)\n",
    "                color += (mat.ks * lt.E) * (np.dot(toC, spR))**16\n",
    "        for i in range(3) : accum[i] += refatt[i] * color[i]\n",
    "        if (level > 0) :\n",
    "            Uinv = -1 * ray.D\n",
    "            refR = make_unit((2 * np.dot(N, Uinv) * N) - Uinv) \n",
    "            ray_trace(Ray(ray.best_pt, refR), accum, mat.kr * refatt, (level - 1))\n",
    "    return accum\n",
    "    \n",
    "def ray_trace_bad(ray, accum, refatt) :\n",
    "    if (ray_find(ray) != None) :\n",
    "        N   = make_unit(ray.best_pt - ray.best_sph.C)\n",
    "        mat = mats[ray.best_sph.m]\n",
    "        color = ambi * mat.ka\n",
    "        toC = -1 * ray.D\n",
    "        for lt in lgts :    \n",
    "            toL   = make_unit(lt.P - ray.best_pt)  \n",
    "            NdotL = np.dot(N,toL)\n",
    "            if (NdotL > 0.0) :\n",
    "                color += mat.kd * lt.E * NdotL\n",
    "                spR  = make_unit((2 * NdotL * N) - toL)\n",
    "                CdR  = np.dot(toC, spR)\n",
    "                color += (mat.ks * lt.E) * CdR**16\n",
    "        accum += refatt * color\n",
    "    return accum"
   ]
  },
  {
   "cell_type": "code",
   "execution_count": 7,
   "metadata": {
    "collapsed": false,
    "deletable": true,
    "editable": true
   },
   "outputs": [
    {
     "data": {
      "image/png": "[encoded data removed]",
      "text/plain": [
       "512x512px 24-bit RGB image"
      ]
     },
     "metadata": {},
     "output_type": "display_data"
    },
    {
     "data": {
      "image/png": "[encoded data removed]",
      "text/plain": [
       "512x512px 24-bit RGB image"
      ]
     },
     "metadata": {},
     "output_type": "display_data"
    }
   ],
   "source": [
    "def render(good) :\n",
    "    img = Image('RGB', (cam2.width, cam2.height), 'black')\n",
    "    pix = img.pixels()\n",
    "    rgb = np.array([0.0, 0.0, 0.0])\n",
    "    att = np.array([1.0, 1.0, 1.0])\n",
    "    for i in range(cam2.width) :\n",
    "        for j in range(cam2.height) :\n",
    "            ray = pixel_ray(i, (cam2.height - j -1), cam2)\n",
    "            rgb[0:3] = 0.0\n",
    "            att[0:3] = 1.0\n",
    "            if good :\n",
    "                ray_trace_good(ray, rgb, att)\n",
    "            else :\n",
    "                ray_trace_bad(ray, rgb, att)     \n",
    "            pix[i,j] = tuple(map(lambda(x) : ZZ(max(0,min(255,round(255.0 * x)))), rgb))\n",
    "    return img\n",
    "res_good = render(True)\n",
    "res_bad = render(False)\n",
    "show(res_good)\n",
    "show(res_bad)"
   ]
  },
  {
   "cell_type": "code",
   "execution_count": null,
   "metadata": {
    "collapsed": false,
    "deletable": true,
    "editable": true
   },
   "outputs": [],
   "source": []
  }
 ],
 "metadata": {
  "kernelspec": {
   "display_name": "SageMath 8.0",
   "language": "",
   "name": "sagemath"
  },
  "language": "python",
  "language_info": {
   "codemirror_mode": {
    "name": "ipython",
    "version": 2
   },
   "file_extension": ".py",
   "mimetype": "text/x-python",
   "name": "python",
   "nbconvert_exporter": "python",
   "pygments_lexer": "ipython2",
   "version": "2.7.13"
  }
 },
 "nbformat": 4,
 "nbformat_minor": 2
}
