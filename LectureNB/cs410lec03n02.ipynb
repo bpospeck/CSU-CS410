{
 "cells": [
  {
   "cell_type": "markdown",
   "metadata": {
    "deletable": true,
    "editable": true
   },
   "source": [
    "## 2D Transformations in Homogeneous Coordinates\n",
    "\n",
    "This notebook illustrates the basic componenents of a 2D transformation.  Specifically rotation, translation and scaling.  Just to show we can be contrary, having worked hard to not think of rotation in terms of angles, sines and cosines, here we adopt that formulation to better match common introductory material.\n",
    "\n",
    "Ross Beveridge\n",
    "August 29, 2017\n",
    "\n",
    "As will be common in these notebooks, the next sequence of commands configure options for running the notebook such as how to display math, etc."
   ]
  },
  {
   "cell_type": "code",
   "execution_count": 8,
   "metadata": {
    "collapsed": true,
    "deletable": true,
    "editable": true
   },
   "outputs": [],
   "source": [
    "%display latex\n",
    "latex.matrix_delimiters(left='|', right='|')\n",
    "latex.vector_delimiters(left='[', right=']')"
   ]
  },
  {
   "cell_type": "markdown",
   "metadata": {
    "deletable": true,
    "editable": true
   },
   "source": [
    "The next block of codes creates the basic four transformation matrices. \n",
    "\n",
    "While this should be simple, notice you are being exposed to an aspect of SageMath that shows a mathematicians attention to detail. Namely, the constant PI must be first converted into a value defined on real numbers. If you have never studied Field Theory you are among good company in CS410, for the moment just view the first two lines as how to say to SageMatch that you want to operate with a floating point version of PI.  \n",
    "\n",
    "On the creation of the rotation matrix notice a couple of things.  First, it is bult off an identiy matrix.  This is a nice way to avoid mistakes when filling out the rest of the homogeneous matrix.  Second, thes is another SageMath typing issue.  Notice the 'SR' argument to creat the identity matrix.  This essentially a way of telling SageMath that the resulting matrix may contain a mix of types including symbolic enteries, floating point entries, and finally integers. \n",
    "\n",
    "### Rotation"
   ]
  },
  {
   "cell_type": "code",
   "execution_count": 9,
   "metadata": {
    "collapsed": false,
    "deletable": true,
    "editable": true
   },
   "outputs": [
    {
     "data": {
      "text/html": [
       "<html><script type=\"math/tex; mode=display\">\\newcommand{\\Bold}[1]{\\mathbf{#1}}\\verb|R|\\phantom{\\verb!x!}\\verb|=| \\left|\\begin{array}{rrr}\n",
       "1.0000 & 0.00000 & 0.00000 \\\\\n",
       "-0.00000 & 1.0000 & 0.00000 \\\\\n",
       "0.00000 & 0.00000 & 1.0000\n",
       "\\end{array}\\right|</script></html>"
      ],
      "text/plain": [
       "'R = ' [  1.0000  0.00000  0.00000]\n",
       "[-0.00000   1.0000  0.00000]\n",
       "[ 0.00000  0.00000   1.0000]"
      ]
     },
     "metadata": {},
     "output_type": "display_data"
    }
   ],
   "source": [
    "Re = RealField(100)\n",
    "theta = -0.0 * Re(pi)\n",
    "ca = cos(theta)\n",
    "sa = sin(theta)\n",
    "RM = matrix.identity(SR,3)\n",
    "RM[0,0] = ca; RM[0,1] = -sa\n",
    "RM[1,0] = sa; RM[1,1] =  ca\n",
    "pretty_print(\"R = \", RM.n(prec=20))"
   ]
  },
  {
   "cell_type": "markdown",
   "metadata": {
    "deletable": true,
    "editable": true
   },
   "source": [
    "Specifying the translation transformation is much simpler. Note this formulation breaks out and names the x and y translation components\n",
    "\n",
    "### Translation"
   ]
  },
  {
   "cell_type": "code",
   "execution_count": 10,
   "metadata": {
    "collapsed": false,
    "deletable": true,
    "editable": true
   },
   "outputs": [
    {
     "data": {
      "text/html": [
       "<html><script type=\"math/tex; mode=display\">\\newcommand{\\Bold}[1]{\\mathbf{#1}}\\verb|T|\\phantom{\\verb!x!}\\verb|=| \\left|\\begin{array}{rrr}\n",
       "1.0000 & 0.00000 & 0.00000 \\\\\n",
       "0.00000 & 1.0000 & 0.00000 \\\\\n",
       "0.00000 & 0.00000 & 1.0000\n",
       "\\end{array}\\right|</script></html>"
      ],
      "text/plain": [
       "'T = ' [ 1.0000 0.00000 0.00000]\n",
       "[0.00000  1.0000 0.00000]\n",
       "[0.00000 0.00000  1.0000]"
      ]
     },
     "metadata": {},
     "output_type": "display_data"
    }
   ],
   "source": [
    "TM = matrix.identity(SR,3)\n",
    "tx = 0.0; ty = 0.0\n",
    "TM[0,2] = tx\n",
    "TM[1,2] = ty\n",
    "pretty_print(\"T = \", TM.n(prec=20))"
   ]
  },
  {
   "cell_type": "markdown",
   "metadata": {
    "deletable": true,
    "editable": true
   },
   "source": [
    "Scaling is also simple.  Do notice that this setup allows for non-uniform scaling\n",
    "\n",
    "### Scaling"
   ]
  },
  {
   "cell_type": "code",
   "execution_count": 11,
   "metadata": {
    "collapsed": false,
    "deletable": true,
    "editable": true
   },
   "outputs": [
    {
     "data": {
      "text/html": [
       "<html><script type=\"math/tex; mode=display\">\\newcommand{\\Bold}[1]{\\mathbf{#1}}\\verb|S|\\phantom{\\verb!x!}\\verb|=| \\left|\\begin{array}{rrr}\n",
       "3.0000 & 0.00000 & 0.00000 \\\\\n",
       "0.00000 & 3.0000 & 0.00000 \\\\\n",
       "0.00000 & 0.00000 & 1.0000\n",
       "\\end{array}\\right|</script></html>"
      ],
      "text/plain": [
       "'S = ' [ 3.0000 0.00000 0.00000]\n",
       "[0.00000  3.0000 0.00000]\n",
       "[0.00000 0.00000  1.0000]"
      ]
     },
     "metadata": {},
     "output_type": "display_data"
    }
   ],
   "source": [
    "SM = matrix.identity(SR,3)\n",
    "sx = 3.0; sy = 3.0\n",
    "SM[0,0] = sx\n",
    "SM[1,1] = sy\n",
    "pretty_print(\"S = \", SM.n(prec=20))"
   ]
  },
  {
   "cell_type": "code",
   "execution_count": null,
   "metadata": {
    "collapsed": true,
    "deletable": true,
    "editable": true
   },
   "outputs": [],
   "source": []
  },
  {
   "cell_type": "markdown",
   "metadata": {
    "deletable": true,
    "editable": true
   },
   "source": [
    "Here is the composition in the order translate, then scale and then rotate.  Pay attention to order because these operations are NOT always order independent. "
   ]
  },
  {
   "cell_type": "code",
   "execution_count": 12,
   "metadata": {
    "collapsed": false,
    "deletable": true,
    "editable": true
   },
   "outputs": [
    {
     "data": {
      "text/html": [
       "<html><script type=\"math/tex; mode=display\">\\newcommand{\\Bold}[1]{\\mathbf{#1}}\\left|\\begin{array}{rrr}\n",
       "3.0000 & 0.00000 & 0.00000 \\\\\n",
       "0.00000 & 3.0000 & 0.00000 \\\\\n",
       "0.00000 & 0.00000 & 1.0000\n",
       "\\end{array}\\right| \\phantom{\\verb!x!}\\verb|=|</script></html>"
      ],
      "text/plain": [
       "[ 3.0000 0.00000 0.00000]\n",
       "[0.00000  3.0000 0.00000]\n",
       "[0.00000 0.00000  1.0000] ' = '"
      ]
     },
     "metadata": {},
     "output_type": "display_data"
    },
    {
     "data": {
      "text/html": [
       "<html><script type=\"math/tex; mode=display\">\\newcommand{\\Bold}[1]{\\mathbf{#1}}\\left|\\begin{array}{rrr}\n",
       "1.0000 & 0.00000 & 0.00000 \\\\\n",
       "-0.00000 & 1.0000 & 0.00000 \\\\\n",
       "0.00000 & 0.00000 & 1.0000\n",
       "\\end{array}\\right| \\left|\\begin{array}{rrr}\n",
       "3.0000 & 0.00000 & 0.00000 \\\\\n",
       "0.00000 & 3.0000 & 0.00000 \\\\\n",
       "0.00000 & 0.00000 & 1.0000\n",
       "\\end{array}\\right| \\left|\\begin{array}{rrr}\n",
       "1.0000 & 0.00000 & 0.00000 \\\\\n",
       "0.00000 & 1.0000 & 0.00000 \\\\\n",
       "0.00000 & 0.00000 & 1.0000\n",
       "\\end{array}\\right|</script></html>"
      ],
      "text/plain": [
       "[  1.0000  0.00000  0.00000]\n",
       "[-0.00000   1.0000  0.00000]\n",
       "[ 0.00000  0.00000   1.0000] [ 3.0000 0.00000 0.00000]\n",
       "[0.00000  3.0000 0.00000]\n",
       "[0.00000 0.00000  1.0000] [ 1.0000 0.00000 0.00000]\n",
       "[0.00000  1.0000 0.00000]\n",
       "[0.00000 0.00000  1.0000]"
      ]
     },
     "metadata": {},
     "output_type": "display_data"
    }
   ],
   "source": [
    "MM = RM * SM * TM\n",
    "pretty_print(MM.n(prec=20), \" = \")\n",
    "pretty_print(RM.n(prec=20), SM.n(prec=20), TM.n(prec=20))"
   ]
  },
  {
   "cell_type": "code",
   "execution_count": null,
   "metadata": {
    "collapsed": true,
    "deletable": true,
    "editable": true
   },
   "outputs": [],
   "source": []
  },
  {
   "cell_type": "code",
   "execution_count": null,
   "metadata": {
    "collapsed": true,
    "deletable": true,
    "editable": true
   },
   "outputs": [],
   "source": []
  },
  {
   "cell_type": "code",
   "execution_count": null,
   "metadata": {
    "collapsed": true,
    "deletable": true,
    "editable": true
   },
   "outputs": [],
   "source": []
  },
  {
   "cell_type": "markdown",
   "metadata": {
    "deletable": true,
    "editable": true
   },
   "source": [
    "The L shaped polygon used in the prior notebook is again used.  Notice here that it is being augmented with a third row of all ones in order to specify the points in homogeneous coordinates"
   ]
  },
  {
   "cell_type": "code",
   "execution_count": 13,
   "metadata": {
    "collapsed": false,
    "deletable": true,
    "editable": true
   },
   "outputs": [
    {
     "data": {
      "text/html": [
       "<html><script type=\"math/tex; mode=display\">\\newcommand{\\Bold}[1]{\\mathbf{#1}}\\verb|Before:|\\phantom{\\verb!x!}\\verb|Pts|\\phantom{\\verb!x!}\\verb|=| \\left|\\begin{array}{rrrrrr}\n",
       "1 & 3 & 3 & 2 & 2 & 1 \\\\\n",
       "1 & 1 & 2 & 2 & 4 & 4 \\\\\n",
       "1 & 1 & 1 & 1 & 1 & 1\n",
       "\\end{array}\\right|</script></html>"
      ],
      "text/plain": [
       "'Before: Pts = ' [1 3 3 2 2 1]\n",
       "[1 1 2 2 4 4]\n",
       "[1 1 1 1 1 1]"
      ]
     },
     "metadata": {},
     "output_type": "display_data"
    },
    {
     "data": {
      "text/html": [
       "<html><script type=\"math/tex; mode=display\">\\newcommand{\\Bold}[1]{\\mathbf{#1}}\\verb|After:|\\phantom{\\verb!xx!}\\verb|Pts|\\phantom{\\verb!x!}\\verb|=| \\left|\\begin{array}{rrrrrr}\n",
       "3.0000 & 9.0000 & 9.0000 & 6.0000 & 6.0000 & 3.0000 \\\\\n",
       "3.0000 & 3.0000 & 6.0000 & 6.0000 & 12.000 & 12.000 \\\\\n",
       "1.0000 & 1.0000 & 1.0000 & 1.0000 & 1.0000 & 1.0000\n",
       "\\end{array}\\right|</script></html>"
      ],
      "text/plain": [
       "'After:  Pts = ' [3.0000 9.0000 9.0000 6.0000 6.0000 3.0000]\n",
       "[3.0000 3.0000 6.0000 6.0000 12.000 12.000]\n",
       "[1.0000 1.0000 1.0000 1.0000 1.0000 1.0000]"
      ]
     },
     "metadata": {},
     "output_type": "display_data"
    }
   ],
   "source": [
    "elA = matrix([[1,1],[3,1],[3,2],[2,2],[2,4],[1,4]])\n",
    "elA = elA.augment(matrix(ZZ,6,1, lambda x,y:1))\n",
    "elA = elA.transpose()\n",
    "elB = MM * elA\n",
    "pretty_print(\"Before: Pts = \", elA)\n",
    "pretty_print(\"After:  Pts = \", elB.n(prec=20))"
   ]
  },
  {
   "cell_type": "code",
   "execution_count": null,
   "metadata": {
    "collapsed": true,
    "deletable": true,
    "editable": true
   },
   "outputs": [],
   "source": []
  },
  {
   "cell_type": "code",
   "execution_count": 14,
   "metadata": {
    "collapsed": false,
    "deletable": true,
    "editable": true
   },
   "outputs": [
    {
     "data": {
      "image/png": "[encoded data removed]",
      "text/plain": [
       "Graphics object consisting of 2 graphics primitives"
      ]
     },
     "metadata": {},
     "output_type": "display_data"
    }
   ],
   "source": [
    "ptsA = list(elA[0:2,:].transpose())\n",
    "ptsB = list(elB[0:2,:].transpose())\n",
    "gelA = polygon(ptsA,color='green')\n",
    "gelB = polygon(ptsB,color='orange',alpha=0.5)\n",
    "bnd = 20.0\n",
    "gos = gelA + gelB\n",
    "gos.show(xmin=-bnd, ymin=-bnd, xmax=bnd, ymax=bnd, aspect_ratio=1)"
   ]
  },
  {
   "cell_type": "code",
   "execution_count": null,
   "metadata": {
    "collapsed": true,
    "deletable": true,
    "editable": true
   },
   "outputs": [],
   "source": []
  }
 ],
 "metadata": {
  "kernelspec": {
   "display_name": "SageMath 8.0",
   "language": "",
   "name": "sagemath"
  },
  "language_info": {
   "codemirror_mode": {
    "name": "ipython",
    "version": 2
   },
   "file_extension": ".py",
   "mimetype": "text/x-python",
   "name": "python",
   "nbconvert_exporter": "python",
   "pygments_lexer": "ipython2",
   "version": "2.7.13"
  }
 },
 "nbformat": 4,
 "nbformat_minor": 2
}
