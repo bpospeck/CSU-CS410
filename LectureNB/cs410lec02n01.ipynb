{
 "cells": [
  {
   "cell_type": "markdown",
   "metadata": {
    "deletable": true,
    "editable": true
   },
   "source": [
    "# Dot Product as Projection \n",
    "While the linear algebraic definition of a dot product is clearly taught everywhere.  Namely, the sum of pairwise products between first, second, third values etc.  However, one of the more important underlying geometric meanings of the dot product is sometimes neglected.  Not here.  Much of what we do in computer graphics depends critically upon a reflexive understanding of the dot product as a projection operator.  To better understand what we mean by 'projection', read on. \n",
    "\n",
    "Ross Beveridge\n",
    "\n",
    "August 29, 2017\n",
    "\n",
    "As will be common in these notebooks, the next sequence of commands configure options for running the notebook such as how to display math, etc."
   ]
  },
  {
   "cell_type": "code",
   "execution_count": 17,
   "metadata": {
    "collapsed": true,
    "deletable": true,
    "editable": true
   },
   "outputs": [],
   "source": [
    "%display latex\n",
    "latex.matrix_delimiters(left='|', right='|')\n",
    "latex.vector_delimiters(left='[', right=']')"
   ]
  },
  {
   "cell_type": "markdown",
   "metadata": {
    "deletable": true,
    "editable": true
   },
   "source": [
    "To begin, here are the true basics starting with two vectors."
   ]
  },
  {
   "cell_type": "code",
   "execution_count": 18,
   "metadata": {
    "collapsed": false,
    "deletable": true,
    "editable": true
   },
   "outputs": [
    {
     "data": {
      "text/html": [
       "<html><script type=\"math/tex; mode=display\">\\newcommand{\\Bold}[1]{\\mathbf{#1}}\\verb|u|\\phantom{\\verb!x!}\\verb|=| \\left[a,\\,b\\right] \\verb|,|\\phantom{\\verb!xx!}\\verb|v|\\phantom{\\verb!x!}\\verb|=| \\left[c,\\,d\\right]</script></html>"
      ],
      "text/plain": [
       "'u = ' (a, b) ',  v = ' (c, d)"
      ]
     },
     "metadata": {},
     "output_type": "display_data"
    },
    {
     "data": {
      "text/html": [
       "<html><script type=\"math/tex; mode=display\">\\newcommand{\\Bold}[1]{\\mathbf{#1}}u \\cdot v = a*c + b*d</script></html>"
      ],
      "text/plain": [
       "u \\cdot v = a*c + b*d"
      ]
     },
     "metadata": {},
     "output_type": "display_data"
    }
   ],
   "source": [
    "var('a','b','c','d')\n",
    "u = vector([a,b])\n",
    "v = vector([c,d])\n",
    "pretty_print(\"u = \", u, \",  v = \", v)\n",
    "pretty_print(LatexExpr(\"u \\cdot v = \") + v.dot_product(u))"
   ]
  },
  {
   "cell_type": "markdown",
   "metadata": {
    "deletable": true,
    "editable": true
   },
   "source": [
    "If the vector u is of unit length, and the vector v represents the position of a point Q in space, then the dot product of u and v represents the distance from the origin to the point measured in the direction u. Take care with the previous sentence, it means the distance to a point in space closest to Q traveling in the direction defined by u.  The following is a picture where you can modify values and example different cases by change u and Q."
   ]
  },
  {
   "cell_type": "code",
   "execution_count": 21,
   "metadata": {
    "collapsed": false,
    "deletable": true,
    "editable": true
   },
   "outputs": [
    {
     "data": {
      "text/html": [
       "<html><script type=\"math/tex; mode=display\">\\newcommand{\\Bold}[1]{\\mathbf{#1}}\\verb|u|\\phantom{\\verb!x!}\\verb|=| \\left[\\frac{5}{34} \\, \\sqrt{34},\\,\\frac{3}{34} \\, \\sqrt{34}\\right]</script></html>"
      ],
      "text/plain": [
       "'u = ' (5/34*sqrt(34), 3/34*sqrt(34))"
      ]
     },
     "metadata": {},
     "output_type": "display_data"
    },
    {
     "data": {
      "text/html": [
       "<html><script type=\"math/tex; mode=display\">\\newcommand{\\Bold}[1]{\\mathbf{#1}}\\verb|v|\\phantom{\\verb!x!}\\verb|=| \\left[4,\\,6\\right]</script></html>"
      ],
      "text/plain": [
       "'v = ' (4, 6)"
      ]
     },
     "metadata": {},
     "output_type": "display_data"
    }
   ],
   "source": [
    "u = vector([5,3])\n",
    "u = (1/u.norm())*u\n",
    "Q = vector([4,6])\n",
    "v = Q\n",
    "pretty_print(\"u = \", u)\n",
    "pretty_print(\"v = \", v)"
   ]
  },
  {
   "cell_type": "code",
   "execution_count": null,
   "metadata": {
    "collapsed": true
   },
   "outputs": [],
   "source": []
  },
  {
   "cell_type": "code",
   "execution_count": 20,
   "metadata": {
    "collapsed": false,
    "deletable": true,
    "editable": true
   },
   "outputs": [
    {
     "data": {
      "image/png": "[encoded data removed]",
      "text/plain": [
       "Graphics object consisting of 7 graphics primitives"
      ]
     },
     "metadata": {},
     "output_type": "display_data"
    }
   ],
   "source": [
    "bnd = max(v.norm(), u.norm())\n",
    "d   = v.dot_product(u)\n",
    "gu  = arrow((0,0),u,color=\"blue\")\n",
    "gv  = arrow((0,0),v,color=\"green\")\n",
    "gq  = point(tuple(Q),color=\"brown\",size=40)\n",
    "gud = line(((0,0),d*u),color=\"blue\", linestyle=\"-.\")\n",
    "gup = point(tuple(d*u),color=\"red\", size=40)\n",
    "gub = line(((0,0),bnd*u),color=\"grey\",alpha=0.5)\n",
    "gqp = line((d*u,v),color=\"brown\", linestyle=\"-.\")\n",
    "gos = gu + gv + gq + gud + gqp + gub + gup\n",
    "gos.show(xmin=0.0, ymin=0.0, xmax=bnd, ymax=bnd, aspect_ratio=1)"
   ]
  },
  {
   "cell_type": "markdown",
   "metadata": {
    "deletable": true,
    "editable": true
   },
   "source": [
    "When you understand each of the seven components in this figure then you are probably solid on the concept of the dot product as a projection operator.  Lets walk through these seven parts using the python variable names for convenience.\n",
    "\n",
    "gu ... this is the blue arrow that represents the unit length vector that in turn defines a axis onto which the point Q will be projected. Put more simply, it is the drawing of the vector u.\n",
    "\n",
    "gv ... this is the green arrow that represents the vector from the origin out to the point Q.  Here we see a first instance of our shifting use of points versus vectors.  \n",
    "\n",
    "gq ... this is the point Q drawn in brown.  This is the point whose distance from the origin we seek to measure in the direction defined by the vector u.\n",
    "\n",
    "d ... this is not explicitly drawn, but d is the distance from the origin to the point closest to Q in the direction u.  \n",
    "\n",
    "gud ... this is a dashed blue line showing visually the distanct traveled from the origin out to the point closest to Q in the direction u.  \n",
    "\n",
    "gup ... this is a point drawn in red signifying the point along the direction of u closest to Q\n",
    "\n",
    "gub ... this is an extension of the vector u signifying what may be thought of as the u-axis.\n",
    "\n",
    "gqp ... this is a dashed brown line illustrating the 'projection' of Q onto the u-axis.  Note it is a line perpendicular to the u-axis and passing throught the point Q. "
   ]
  }
 ],
 "metadata": {
  "kernelspec": {
   "display_name": "SageMath 8.0",
   "language": "",
   "name": "sagemath"
  },
  "language_info": {
   "codemirror_mode": {
    "name": "ipython",
    "version": 2
   },
   "file_extension": ".py",
   "mimetype": "text/x-python",
   "name": "python",
   "nbconvert_exporter": "python",
   "pygments_lexer": "ipython2",
   "version": "2.7.13"
  }
 },
 "nbformat": 4,
 "nbformat_minor": 2
}
