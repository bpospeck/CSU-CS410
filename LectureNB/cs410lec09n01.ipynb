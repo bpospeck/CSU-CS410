{
 "cells": [
  {
   "cell_type": "markdown",
   "metadata": {
    "deletable": true,
    "editable": true
   },
   "source": [
    "## Ray Triangle Intersection\n",
    "\n",
    "Here is a solution to the ray-triangle intersection problem that does not require explicitly intersecting the ray with a full 3D plane.  This approach instead takes advantage of a simple property of triangles, namely that any point in a triangle may be expressed as some offset from a key vertex in directions determined by vectors derived from this key vertex and the remaining two vertices. \n",
    "\n",
    "In this example the actual scalar variables are being made explicit, hence the next setup block is rather large in so much as it declares all the necessary symbolic scalar variables.\n",
    "\n",
    "Ross Beveridge, September 19, 2017"
   ]
  },
  {
   "cell_type": "markdown",
   "metadata": {
    "deletable": true,
    "editable": true
   },
   "source": [
    "### Symbols and Setup\n",
    "\n",
    "In this example the actual scalar variables are being made explicit, hence the next setup block is rather large in so much as it declares all the necessary symbolic scalar variables. We will use the symbols more below and offer a fuller explanation, but for the moment, note the conventions match the PowerPoint presentation with a triangle defined by 3D points A, B and C."
   ]
  },
  {
   "cell_type": "code",
   "execution_count": 12,
   "metadata": {
    "collapsed": true,
    "deletable": true,
    "editable": true
   },
   "outputs": [],
   "source": [
    "latex.matrix_delimiters(\"[\", \"]\")\n",
    "var('ax', 'ay', 'az', 'bx', 'by', 'bz', 'cx', 'cy', 'cz');\n",
    "var('lx', 'ly', 'lz', 'dx', 'dy', 'dz');\n",
    "var('t', 'beta', 'gamma');\n",
    "Av = vector(SR, 3, ('ax', 'ay', 'az'));\n",
    "Bv = vector(SR, 3, ('bx', 'by', 'bz'));\n",
    "Cv = vector(SR, 3, ('cx', 'cy', 'cz'));\n",
    "Lv = vector(SR, 3, ('lx', 'ly', 'lz'));\n",
    "Dv = vector(SR, 3, ('dx', 'dy', 'dz'));\n",
    "A = matrix(SR, 3,1, Av); B = matrix(SR, 3,1, Bv); C = matrix(SR, 3,1, Cv);\n",
    "L = matrix(SR, 3,1, Lv); D = matrix(SR, 3,1, Dv);"
   ]
  },
  {
   "cell_type": "markdown",
   "metadata": {
    "deletable": true,
    "editable": true
   },
   "source": [
    "### The Ray\n",
    "\n",
    "The ray is parameterized in the standard manner, by a single value t.  The ray originates at a point L and proceeds in a direction defined by a nunit length vector D. "
   ]
  },
  {
   "cell_type": "code",
   "execution_count": 13,
   "metadata": {
    "collapsed": false,
    "deletable": true,
    "editable": true
   },
   "outputs": [
    {
     "data": {
      "text/html": [
       "<html><script type=\"math/tex; mode=display\">\\newcommand{\\Bold}[1]{\\mathbf{#1}}R(t) = L + t D = \\left[\\begin{array}{r}\n",
       "\\mathit{lx} \\\\\n",
       "\\mathit{ly} \\\\\n",
       "\\mathit{lz}\n",
       "\\end{array}\\right] + t \\verb|*| \\left[\\begin{array}{r}\n",
       "\\mathit{dx} \\\\\n",
       "\\mathit{dy} \\\\\n",
       "\\mathit{dz}\n",
       "\\end{array}\\right] \\verb|=| \\left[\\begin{array}{r}\n",
       "\\mathit{dx} t + \\mathit{lx} \\\\\n",
       "\\mathit{dy} t + \\mathit{ly} \\\\\n",
       "\\mathit{dz} t + \\mathit{lz}\n",
       "\\end{array}\\right]</script></html>"
      ],
      "text/plain": [
       "R(t) = L + t D = [lx]\n",
       "[ly]\n",
       "[lz] '+' t '*' [dx]\n",
       "[dy]\n",
       "[dz] '=' [dx*t + lx]\n",
       "[dy*t + ly]\n",
       "[dz*t + lz]"
      ]
     },
     "metadata": {},
     "output_type": "display_data"
    }
   ],
   "source": [
    "Rt = L + t * D;\n",
    "pretty_print(LatexExpr(\"R(t) = L + t D =\"), L, \"+\", t, \"*\", D, \"=\", Rt);"
   ]
  },
  {
   "cell_type": "markdown",
   "metadata": {
    "deletable": true,
    "editable": true
   },
   "source": [
    "### The Triangle\n",
    "\n",
    "The triangle is defined by three points: A, B and C.  Any position on the infinite plane containing A, B and C may be reached using two parameters, one point (A) and two vectors (B-A) and (C-A). Do notice that early in the semester the importance of understanding what is meant by a Point versus a Vector in geometric terms is key to understanding this development. "
   ]
  },
  {
   "cell_type": "code",
   "execution_count": 14,
   "metadata": {
    "collapsed": false
   },
   "outputs": [
    {
     "data": {
      "text/html": [
       "<html><script type=\"math/tex; mode=display\">\\newcommand{\\Bold}[1]{\\mathbf{#1}}P( \\beta , \\gamma ) = A + \\beta (B-A) + \\gamma (C-A) \\;\\;</script></html>"
      ],
      "text/plain": [
       "P( \\beta , \\gamma ) = A + \\beta (B-A) + \\gamma (C-A) \\;\\;"
      ]
     },
     "metadata": {},
     "output_type": "display_data"
    },
    {
     "data": {
      "text/html": [
       "<html><script type=\"math/tex; mode=display\">\\newcommand{\\Bold}[1]{\\mathbf{#1}}P( \\beta , \\gamma ) = \\verb|=| \\left[\\begin{array}{r}\n",
       "-{\\left(\\mathit{ax} - \\mathit{bx}\\right)} \\beta - {\\left(\\mathit{ax} - \\mathit{cx}\\right)} \\gamma + \\mathit{ax} \\\\\n",
       "-{\\left(\\mathit{ay} - \\mathit{by}\\right)} \\beta - {\\left(\\mathit{ay} - \\mathit{cy}\\right)} \\gamma + \\mathit{ay} \\\\\n",
       "-{\\left(\\mathit{az} - \\mathit{bz}\\right)} \\beta - {\\left(\\mathit{az} - \\mathit{cz}\\right)} \\gamma + \\mathit{az}\n",
       "\\end{array}\\right]</script></html>"
      ],
      "text/plain": [
       "P( \\beta , \\gamma ) = '=' [-(ax - bx)*beta - (ax - cx)*gamma + ax]\n",
       "[-(ay - by)*beta - (ay - cy)*gamma + ay]\n",
       "[-(az - bz)*beta - (az - cz)*gamma + az]"
      ]
     },
     "metadata": {},
     "output_type": "display_data"
    }
   ],
   "source": [
    "tstr = LatexExpr(\"P(\") + latex(beta) + \",\" + latex(gamma) + LatexExpr(\") =\");\n",
    "Pbg =  A + beta * (B - A) + gamma * (C - A);\n",
    "pretty_print(tstr , LatexExpr(\"A + \" + latex(beta) + \" (B-A) + \\gamma (C-A) \\;\\;\"))\n",
    "pretty_print(tstr , \"=\", Pbg);"
   ]
  },
  {
   "cell_type": "markdown",
   "metadata": {},
   "source": [
    "### Intersect Ray and Plane\n",
    "\n",
    "In the previous lecture we saw how in 2D to solve the the t and s values where tow parameterized lines crossed.  One key step is to create a single equation where the point on one object equals a point on the other object.  The same approach is taken here, we need to crreate a single equation as follows:"
   ]
  },
  {
   "cell_type": "code",
   "execution_count": 15,
   "metadata": {
    "collapsed": false
   },
   "outputs": [
    {
     "data": {
      "text/html": [
       "<html><script type=\"math/tex; mode=display\">\\newcommand{\\Bold}[1]{\\mathbf{#1}}\\left[\\begin{array}{r}\n",
       "\\mathit{dx} t + \\mathit{lx} \\\\\n",
       "\\mathit{dy} t + \\mathit{ly} \\\\\n",
       "\\mathit{dz} t + \\mathit{lz}\n",
       "\\end{array}\\right] \\phantom{\\verb!x!}\\verb|=| \\left[\\begin{array}{r}\n",
       "-{\\left(\\mathit{ax} - \\mathit{bx}\\right)} \\beta - {\\left(\\mathit{ax} - \\mathit{cx}\\right)} \\gamma + \\mathit{ax} \\\\\n",
       "-{\\left(\\mathit{ay} - \\mathit{by}\\right)} \\beta - {\\left(\\mathit{ay} - \\mathit{cy}\\right)} \\gamma + \\mathit{ay} \\\\\n",
       "-{\\left(\\mathit{az} - \\mathit{bz}\\right)} \\beta - {\\left(\\mathit{az} - \\mathit{cz}\\right)} \\gamma + \\mathit{az}\n",
       "\\end{array}\\right]</script></html>"
      ],
      "text/plain": [
       "[dx*t + lx]\n",
       "[dy*t + ly]\n",
       "[dz*t + lz] ' = ' [-(ax - bx)*beta - (ax - cx)*gamma + ax]\n",
       "[-(ay - by)*beta - (ay - cy)*gamma + ay]\n",
       "[-(az - bz)*beta - (az - cz)*gamma + az]"
      ]
     },
     "metadata": {},
     "output_type": "display_data"
    }
   ],
   "source": [
    "pretty_print(Rt, \" = \", Pbg);"
   ]
  },
  {
   "cell_type": "markdown",
   "metadata": {},
   "source": [
    "Unless the geometry is very badly conditioned, namely the ray is parallel to the plane of the triangle, there will exist a combination of t value for the ray along with alpha and gamma for the plane such that the equation above is true.  The next step is to do some re-writing of the eqaution to place it into a form of a standard linear algebraic equation of a kind we are used to solving."
   ]
  },
  {
   "cell_type": "code",
   "execution_count": 16,
   "metadata": {
    "collapsed": false
   },
   "outputs": [
    {
     "data": {
      "text/html": [
       "<html><script type=\"math/tex; mode=display\">\\newcommand{\\Bold}[1]{\\mathbf{#1}}\\left[\\begin{array}{r}\n",
       "\\mathit{dx} t + \\mathit{lx} \\\\\n",
       "\\mathit{dy} t + \\mathit{ly} \\\\\n",
       "\\mathit{dz} t + \\mathit{lz}\n",
       "\\end{array}\\right] \\phantom{\\verb!x!}\\verb|+| \\left[\\begin{array}{r}\n",
       "{\\left(\\mathit{ax} - \\mathit{bx}\\right)} \\beta + {\\left(\\mathit{ax} - \\mathit{cx}\\right)} \\gamma - \\mathit{ax} \\\\\n",
       "{\\left(\\mathit{ay} - \\mathit{by}\\right)} \\beta + {\\left(\\mathit{ay} - \\mathit{cy}\\right)} \\gamma - \\mathit{ay} \\\\\n",
       "{\\left(\\mathit{az} - \\mathit{bz}\\right)} \\beta + {\\left(\\mathit{az} - \\mathit{cz}\\right)} \\gamma - \\mathit{az}\n",
       "\\end{array}\\right] \\verb|=| \\left[\\begin{array}{r}\n",
       "0 \\\\\n",
       "0 \\\\\n",
       "0\n",
       "\\end{array}\\right]</script></html>"
      ],
      "text/plain": [
       "[dx*t + lx]\n",
       "[dy*t + ly]\n",
       "[dz*t + lz] ' + ' [(ax - bx)*beta + (ax - cx)*gamma - ax]\n",
       "[(ay - by)*beta + (ay - cy)*gamma - ay]\n",
       "[(az - bz)*beta + (az - cz)*gamma - az] '=' [0]\n",
       "[0]\n",
       "[0]"
      ]
     },
     "metadata": {},
     "output_type": "display_data"
    },
    {
     "data": {
      "text/html": [
       "<html><script type=\"math/tex; mode=display\">\\newcommand{\\Bold}[1]{\\mathbf{#1}}M X = Y \\phantom{\\verb!x!}\\verb|...| \\left[\\begin{array}{rrr}\n",
       "\\mathit{ax} - \\mathit{bx} & \\mathit{ax} - \\mathit{cx} & \\mathit{dx} \\\\\n",
       "\\mathit{ay} - \\mathit{by} & \\mathit{ay} - \\mathit{cy} & \\mathit{dy} \\\\\n",
       "\\mathit{az} - \\mathit{bz} & \\mathit{az} - \\mathit{cz} & \\mathit{dz}\n",
       "\\end{array}\\right] \\verb|*| \\left[\\begin{array}{r}\n",
       "\\beta \\\\\n",
       "\\gamma \\\\\n",
       "t\n",
       "\\end{array}\\right] \\verb|=| \\left[\\begin{array}{r}\n",
       "\\mathit{ax} - \\mathit{lx} \\\\\n",
       "\\mathit{ay} - \\mathit{ly} \\\\\n",
       "\\mathit{az} - \\mathit{lz}\n",
       "\\end{array}\\right]</script></html>"
      ],
      "text/plain": [
       "M X = Y ' ... ' [ax - bx ax - cx      dx]\n",
       "[ay - by ay - cy      dy]\n",
       "[az - bz az - cz      dz] '*' [ beta]\n",
       "[gamma]\n",
       "[    t] '=' [ax - lx]\n",
       "[ay - ly]\n",
       "[az - lz]"
      ]
     },
     "metadata": {},
     "output_type": "display_data"
    }
   ],
   "source": [
    "pretty_print(Rt, \" + \", -1 * Pbg, \"=\", matrix(SR, 3,1, 0));\n",
    "XV = matrix(SR, 3,1, (beta, gamma, t));\n",
    "YV = matrix(SR, 3,1, (Av - Lv));\n",
    "MM = matrix(SR, 3,3, [(Av-Bv), (Av-Cv), Dv]); \n",
    "MM = MM.transpose();\n",
    "pretty_print(LatexExpr(\"M X = Y\"), \" ... \" , MM, \"*\", XV, \"=\", YV);"
   ]
  },
  {
   "cell_type": "markdown",
   "metadata": {},
   "source": [
    "The next question, how most efficiently to solve for the parameters beta, gamma and t is complicated. One option is to find a simple linear algebra library that includes matrix inverse.\n",
    "\n",
    "Another option is to work out Cramer's Rule. This approach involves solving for the determinants of four matrices, the original M matrix and then three derived by substituting Y into successive columns.\n",
    "\n",
    "Below is the brute force application of Cramer's Rule in order to solve for the parameters. While this is a good start, keep in mind when actually implementing this approach that there is a lot of repitition and common terms should be merged. The most obvious example is the determinant of the matrix M which should only be computed once."
   ]
  },
  {
   "cell_type": "code",
   "execution_count": 19,
   "metadata": {
    "collapsed": false
   },
   "outputs": [
    {
     "data": {
      "text/html": [
       "<html><script type=\"math/tex; mode=display\">\\newcommand{\\Bold}[1]{\\mathbf{#1}}\\verb|M|\\phantom{\\verb!x!}\\verb|=| \\left[\\begin{array}{rrr}\n",
       "\\mathit{ax} - \\mathit{bx} & \\mathit{ax} - \\mathit{cx} & \\mathit{dx} \\\\\n",
       "\\mathit{ay} - \\mathit{by} & \\mathit{ay} - \\mathit{cy} & \\mathit{dy} \\\\\n",
       "\\mathit{az} - \\mathit{bz} & \\mathit{az} - \\mathit{cz} & \\mathit{dz}\n",
       "\\end{array}\\right]</script></html>"
      ],
      "text/plain": [
       "'M = ' [ax - bx ax - cx      dx]\n",
       "[ay - by ay - cy      dy]\n",
       "[az - bz az - cz      dz]"
      ]
     },
     "metadata": {},
     "output_type": "display_data"
    },
    {
     "data": {
      "text/html": [
       "<html><script type=\"math/tex; mode=display\">\\newcommand{\\Bold}[1]{\\mathbf{#1}}M_{1} = \\; \\left[\\begin{array}{rrr}\n",
       "\\mathit{ax} - \\mathit{lx} & \\mathit{ax} - \\mathit{cx} & \\mathit{dx} \\\\\n",
       "\\mathit{ay} - \\mathit{ly} & \\mathit{ay} - \\mathit{cy} & \\mathit{dy} \\\\\n",
       "\\mathit{az} - \\mathit{lz} & \\mathit{az} - \\mathit{cz} & \\mathit{dz}\n",
       "\\end{array}\\right] , \\;\\; M_{2} = \\; \\left[\\begin{array}{rrr}\n",
       "\\mathit{ax} - \\mathit{bx} & \\mathit{ax} - \\mathit{lx} & \\mathit{dx} \\\\\n",
       "\\mathit{ay} - \\mathit{by} & \\mathit{ay} - \\mathit{ly} & \\mathit{dy} \\\\\n",
       "\\mathit{az} - \\mathit{bz} & \\mathit{az} - \\mathit{lz} & \\mathit{dz}\n",
       "\\end{array}\\right] , \\;\\; M_{3} = \\; \\left[\\begin{array}{rrr}\n",
       "\\mathit{ax} - \\mathit{bx} & \\mathit{ax} - \\mathit{cx} & \\mathit{ax} - \\mathit{lx} \\\\\n",
       "\\mathit{ay} - \\mathit{by} & \\mathit{ay} - \\mathit{cy} & \\mathit{ay} - \\mathit{ly} \\\\\n",
       "\\mathit{az} - \\mathit{bz} & \\mathit{az} - \\mathit{cz} & \\mathit{az} - \\mathit{lz}\n",
       "\\end{array}\\right]</script></html>"
      ],
      "text/plain": [
       "M_{1} = \\; [ax - lx ax - cx      dx]\n",
       "[ay - ly ay - cy      dy]\n",
       "[az - lz az - cz      dz] , \\;\\; M_{2} = \\; [ax - bx ax - lx      dx]\n",
       "[ay - by ay - ly      dy]\n",
       "[az - bz az - lz      dz] , \\;\\; M_{3} = \\; [ax - bx ax - cx ax - lx]\n",
       "[ay - by ay - cy ay - ly]\n",
       "[az - bz az - cz az - lz]"
      ]
     },
     "metadata": {},
     "output_type": "display_data"
    },
    {
     "data": {
      "text/html": [
       "<html><script type=\"math/tex; mode=display\">\\newcommand{\\Bold}[1]{\\mathbf{#1}}\\beta \\;=\\; \\frac{|M_{1}|}{|M|}</script></html>"
      ],
      "text/plain": [
       "beta \\;=\\; \\frac{|M_{1}|}{|M|}"
      ]
     },
     "metadata": {},
     "output_type": "display_data"
    },
    {
     "data": {
      "text/html": [
       "<html><script type=\"math/tex; mode=display\">\\newcommand{\\Bold}[1]{\\mathbf{#1}}\\gamma \\;=\\; \\frac{|M_{2}|}{|M|}</script></html>"
      ],
      "text/plain": [
       "gamma \\;=\\; \\frac{|M_{2}|}{|M|}"
      ]
     },
     "metadata": {},
     "output_type": "display_data"
    },
    {
     "data": {
      "text/html": [
       "<html><script type=\"math/tex; mode=display\">\\newcommand{\\Bold}[1]{\\mathbf{#1}}t \\;=\\; \\frac{|M_{3}|}{|M|}</script></html>"
      ],
      "text/plain": [
       "t \\;=\\; \\frac{|M_{3}|}{|M|}"
      ]
     },
     "metadata": {},
     "output_type": "display_data"
    },
    {
     "data": {
      "text/html": [
       "<html><script type=\"math/tex; mode=display\">\\newcommand{\\Bold}[1]{\\mathbf{#1}}\\beta \\;=\\; \\frac{{\\left({\\left(\\mathit{az} - \\mathit{cz}\\right)} \\mathit{dy} - {\\left(\\mathit{ay} - \\mathit{cy}\\right)} \\mathit{dz}\\right)} {\\left(\\mathit{ax} - \\mathit{lx}\\right)} - {\\left({\\left(\\mathit{az} - \\mathit{cz}\\right)} \\mathit{dx} - {\\left(\\mathit{ax} - \\mathit{cx}\\right)} \\mathit{dz}\\right)} {\\left(\\mathit{ay} - \\mathit{ly}\\right)} + {\\left({\\left(\\mathit{ay} - \\mathit{cy}\\right)} \\mathit{dx} - {\\left(\\mathit{ax} - \\mathit{cx}\\right)} \\mathit{dy}\\right)} {\\left(\\mathit{az} - \\mathit{lz}\\right)}}{{\\left({\\left(\\mathit{az} - \\mathit{cz}\\right)} \\mathit{dy} - {\\left(\\mathit{ay} - \\mathit{cy}\\right)} \\mathit{dz}\\right)} {\\left(\\mathit{ax} - \\mathit{bx}\\right)} - {\\left({\\left(\\mathit{az} - \\mathit{cz}\\right)} \\mathit{dx} - {\\left(\\mathit{ax} - \\mathit{cx}\\right)} \\mathit{dz}\\right)} {\\left(\\mathit{ay} - \\mathit{by}\\right)} + {\\left({\\left(\\mathit{ay} - \\mathit{cy}\\right)} \\mathit{dx} - {\\left(\\mathit{ax} - \\mathit{cx}\\right)} \\mathit{dy}\\right)} {\\left(\\mathit{az} - \\mathit{bz}\\right)}}</script></html>"
      ],
      "text/plain": [
       "beta \\;=\\; (((az - cz)*dy - (ay - cy)*dz)*(ax - lx) - ((az - cz)*dx - (ax - cx)*dz)*(ay - ly) + ((ay - cy)*dx - (ax - cx)*dy)*(az - lz))/(((az - cz)*dy - (ay - cy)*dz)*(ax - bx) - ((az - cz)*dx - (ax - cx)*dz)*(ay - by) + ((ay - cy)*dx - (ax - cx)*dy)*(az - bz))"
      ]
     },
     "metadata": {},
     "output_type": "display_data"
    },
    {
     "data": {
      "text/html": [
       "<html><script type=\"math/tex; mode=display\">\\newcommand{\\Bold}[1]{\\mathbf{#1}}\\gamma \\;=\\; \\frac{{\\left({\\left(\\mathit{az} - \\mathit{lz}\\right)} \\mathit{dy} - {\\left(\\mathit{ay} - \\mathit{ly}\\right)} \\mathit{dz}\\right)} {\\left(\\mathit{ax} - \\mathit{bx}\\right)} - {\\left({\\left(\\mathit{az} - \\mathit{lz}\\right)} \\mathit{dx} - {\\left(\\mathit{ax} - \\mathit{lx}\\right)} \\mathit{dz}\\right)} {\\left(\\mathit{ay} - \\mathit{by}\\right)} + {\\left({\\left(\\mathit{ay} - \\mathit{ly}\\right)} \\mathit{dx} - {\\left(\\mathit{ax} - \\mathit{lx}\\right)} \\mathit{dy}\\right)} {\\left(\\mathit{az} - \\mathit{bz}\\right)}}{{\\left({\\left(\\mathit{az} - \\mathit{cz}\\right)} \\mathit{dy} - {\\left(\\mathit{ay} - \\mathit{cy}\\right)} \\mathit{dz}\\right)} {\\left(\\mathit{ax} - \\mathit{bx}\\right)} - {\\left({\\left(\\mathit{az} - \\mathit{cz}\\right)} \\mathit{dx} - {\\left(\\mathit{ax} - \\mathit{cx}\\right)} \\mathit{dz}\\right)} {\\left(\\mathit{ay} - \\mathit{by}\\right)} + {\\left({\\left(\\mathit{ay} - \\mathit{cy}\\right)} \\mathit{dx} - {\\left(\\mathit{ax} - \\mathit{cx}\\right)} \\mathit{dy}\\right)} {\\left(\\mathit{az} - \\mathit{bz}\\right)}}</script></html>"
      ],
      "text/plain": [
       "gamma \\;=\\; (((az - lz)*dy - (ay - ly)*dz)*(ax - bx) - ((az - lz)*dx - (ax - lx)*dz)*(ay - by) + ((ay - ly)*dx - (ax - lx)*dy)*(az - bz))/(((az - cz)*dy - (ay - cy)*dz)*(ax - bx) - ((az - cz)*dx - (ax - cx)*dz)*(ay - by) + ((ay - cy)*dx - (ax - cx)*dy)*(az - bz))"
      ]
     },
     "metadata": {},
     "output_type": "display_data"
    },
    {
     "data": {
      "text/html": [
       "<html><script type=\"math/tex; mode=display\">\\newcommand{\\Bold}[1]{\\mathbf{#1}}t \\;=\\; \\frac{{\\left({\\left(\\mathit{ay} - \\mathit{ly}\\right)} {\\left(\\mathit{az} - \\mathit{cz}\\right)} - {\\left(\\mathit{ay} - \\mathit{cy}\\right)} {\\left(\\mathit{az} - \\mathit{lz}\\right)}\\right)} {\\left(\\mathit{ax} - \\mathit{bx}\\right)} - {\\left({\\left(\\mathit{ax} - \\mathit{lx}\\right)} {\\left(\\mathit{az} - \\mathit{cz}\\right)} - {\\left(\\mathit{ax} - \\mathit{cx}\\right)} {\\left(\\mathit{az} - \\mathit{lz}\\right)}\\right)} {\\left(\\mathit{ay} - \\mathit{by}\\right)} + {\\left({\\left(\\mathit{ax} - \\mathit{lx}\\right)} {\\left(\\mathit{ay} - \\mathit{cy}\\right)} - {\\left(\\mathit{ax} - \\mathit{cx}\\right)} {\\left(\\mathit{ay} - \\mathit{ly}\\right)}\\right)} {\\left(\\mathit{az} - \\mathit{bz}\\right)}}{{\\left({\\left(\\mathit{az} - \\mathit{cz}\\right)} \\mathit{dy} - {\\left(\\mathit{ay} - \\mathit{cy}\\right)} \\mathit{dz}\\right)} {\\left(\\mathit{ax} - \\mathit{bx}\\right)} - {\\left({\\left(\\mathit{az} - \\mathit{cz}\\right)} \\mathit{dx} - {\\left(\\mathit{ax} - \\mathit{cx}\\right)} \\mathit{dz}\\right)} {\\left(\\mathit{ay} - \\mathit{by}\\right)} + {\\left({\\left(\\mathit{ay} - \\mathit{cy}\\right)} \\mathit{dx} - {\\left(\\mathit{ax} - \\mathit{cx}\\right)} \\mathit{dy}\\right)} {\\left(\\mathit{az} - \\mathit{bz}\\right)}}</script></html>"
      ],
      "text/plain": [
       "t \\;=\\; (((ay - ly)*(az - cz) - (ay - cy)*(az - lz))*(ax - bx) - ((ax - lx)*(az - cz) - (ax - cx)*(az - lz))*(ay - by) + ((ax - lx)*(ay - cy) - (ax - cx)*(ay - ly))*(az - bz))/(((az - cz)*dy - (ay - cy)*dz)*(ax - bx) - ((az - cz)*dx - (ax - cx)*dz)*(ay - by) + ((ay - cy)*dx - (ax - cx)*dy)*(az - bz))"
      ]
     },
     "metadata": {},
     "output_type": "display_data"
    }
   ],
   "source": [
    "MMs1 = copy(MM); MMs2 = copy(MM); MMs3 = copy(MM);\n",
    "for i in range(3):\n",
    "    MMs1[i,0] = YV[i,0];\n",
    "    MMs2[i,1] = YV[i,0];\n",
    "    MMs3[i,2] = YV[i,0];\n",
    "pretty_print(\"M = \", MM);\n",
    "pretty_print(LatexExpr(\"M_{1} = \\;\"), MMs1, LatexExpr(\", \\;\\; M_{2} = \\;\"), MMs2, LatexExpr(\", \\;\\; M_{3} = \\;\"), MMs3);\n",
    "detM = MM.determinant();\n",
    "detM1 = MMs1.determinant();\n",
    "detM2 = MMs2.determinant();\n",
    "detM3 = MMs3.determinant();\n",
    "sbeta = detM1 / detM; sgamma = detM2 / detM; stval = detM3 / detM;\n",
    "pretty_print(beta,  LatexExpr(\"\\;=\\; \\\\frac{|M_{1}|}{|M|}\"));\n",
    "pretty_print(gamma, LatexExpr(\"\\;=\\; \\\\frac{|M_{2}|}{|M|}\"));\n",
    "pretty_print(t,     LatexExpr(\"\\;=\\; \\\\frac{|M_{3}|}{|M|}\"));\n",
    "pretty_print(beta,  LatexExpr(\"\\;=\\;\"), sbeta);\n",
    "pretty_print(gamma, LatexExpr(\"\\;=\\;\"), sgamma);\n",
    "pretty_print(t,     LatexExpr(\"\\;=\\;\"), stval);"
   ]
  },
  {
   "cell_type": "code",
   "execution_count": null,
   "metadata": {
    "collapsed": true
   },
   "outputs": [],
   "source": []
  }
 ],
 "metadata": {
  "kernelspec": {
   "display_name": "SageMath 8.0",
   "language": "",
   "name": "sagemath"
  },
  "language_info": {
   "codemirror_mode": {
    "name": "ipython",
    "version": 2
   },
   "file_extension": ".py",
   "mimetype": "text/x-python",
   "name": "python",
   "nbconvert_exporter": "python",
   "pygments_lexer": "ipython2",
   "version": "2.7.13"
  }
 },
 "nbformat": 4,
 "nbformat_minor": 2
}
