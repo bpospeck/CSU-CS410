{
 "cells": [
  {
   "cell_type": "markdown",
   "metadata": {
    "deletable": true,
    "editable": true
   },
   "source": [
    "## Axis-Angle Rotation \n",
    "\n",
    "This notebook illustrates how to generate a rotation matrix based upon and axis-angle specification.  In addition to being of practical value, understanding this construction is a great start for understanding how cameras may be placed in the world. \n",
    "\n",
    "A minor point.  To keep the examples below a bit simpler, we are not doing this derivation in homogenous coordinaes. Everything you see behaves equivalently, but of course all the matrices would be 4x4 instead of 3x3.\n",
    "\n",
    "Ross Beveridge\n",
    "September 5, 2017\n",
    "\n",
    "As will be common in these notebooks, the next sequence of commands configure options for running the notebook such as how to display math, etc."
   ]
  },
  {
   "cell_type": "code",
   "execution_count": 234,
   "metadata": {
    "collapsed": true,
    "deletable": true,
    "editable": true
   },
   "outputs": [],
   "source": [
    "%display latex\n",
    "latex.matrix_delimiters(left='|', right='|')\n",
    "latex.vector_delimiters(left='[', right=']')"
   ]
  },
  {
   "cell_type": "markdown",
   "metadata": {
    "deletable": true,
    "editable": true
   },
   "source": [
    "To begin recognize that in specifying an axis angle rotation we begin with a direction w and an angle theta."
   ]
  },
  {
   "cell_type": "code",
   "execution_count": 235,
   "metadata": {
    "collapsed": false
   },
   "outputs": [
    {
     "data": {
      "text/html": [
       "<html><script type=\"math/tex; mode=display\">\\newcommand{\\Bold}[1]{\\mathbf{#1}}\\verb|W|\\phantom{\\verb!x!}\\verb|=| \\left[0.00000,\\,1.0000,\\,0.00000\\right] \\phantom{\\verb!x!}\\verb|and|  \\;\\;\\theta =  180.00</script></html>"
      ],
      "text/plain": [
       "'W = ' (0.00000, 1.0000, 0.00000) ' and '  \\;\\;\\theta =  180.00"
      ]
     },
     "metadata": {},
     "output_type": "display_data"
    }
   ],
   "source": [
    "Wv    = vector([0, 1.0, 0.0])\n",
    "Wv   = (1/Wv.norm())*Wv\n",
    "angle = 180\n",
    "pretty_print(\"W = \", Wv.n(prec=20), \" and \", LatexExpr(r\" \\;\\;\\theta = \"), angle.n(prec=20))"
   ]
  },
  {
   "cell_type": "markdown",
   "metadata": {},
   "source": [
    "### Rotate so theta becomes the z-axis\n",
    "\n",
    "Using good old trigonmetry we would know easily how to rotate an amount theta about the z-axis.  This fact begs the question: how can we make W the z-axis.  The answer is build a rotation matrix where W becomes our z-axis. \n",
    "\n",
    "In other words, the unit length version of W is the z-axis and will be placed in the third row of a 3x3 rotation matrix.  What must happen to fill yout the matrix is we need two other unit length vectors mutually orthongonal to W. To do this, we carry out a several step process. \n",
    "\n",
    "First, we find a vector M that is not parallel to W.  Note, that is all we care about and nothing more.  The cross product of W and this vector M will define the x-axis after application of the rotation matrix we are constructing.\n",
    "\n",
    "Second, now that the top and bottom row of our rotation matrix is defined, the middle row is essentially define since it must be mutually orthongonal to the U and W vectors.  Therefore, W cross U yeilds the middle row of the rotation matrix.  \n",
    "\n",
    "All these steps are carried out in the code that follows."
   ]
  },
  {
   "cell_type": "code",
   "execution_count": 236,
   "metadata": {
    "collapsed": false
   },
   "outputs": [
    {
     "data": {
      "text/html": [
       "<html><script type=\"math/tex; mode=display\">\\newcommand{\\Bold}[1]{\\mathbf{#1}}\\verb|M|\\phantom{\\verb!x!}\\verb|=| \\left[0.00000,\\,1.0000,\\,1.0000\\right]</script></html>"
      ],
      "text/plain": [
       "'M = ' (0.00000, 1.0000, 1.0000)"
      ]
     },
     "metadata": {},
     "output_type": "display_data"
    }
   ],
   "source": [
    "Mv = copy(Wv)\n",
    "for i in range(3) :\n",
    "    if (Mv[i] == min(Wv)) :\n",
    "        j = i\n",
    "\n",
    "Mv[j] = 1.0        \n",
    "pretty_print(\"M = \", Mv.n(prec=20))    "
   ]
  },
  {
   "cell_type": "code",
   "execution_count": 237,
   "metadata": {
    "collapsed": false
   },
   "outputs": [
    {
     "data": {
      "text/html": [
       "<html><script type=\"math/tex; mode=display\">\\newcommand{\\Bold}[1]{\\mathbf{#1}}\\verb|U|\\phantom{\\verb!x!}\\verb|=| \\left[1.0000,\\,0.00000,\\,0.00000\\right]</script></html>"
      ],
      "text/plain": [
       "'U = ' (1.0000, 0.00000, 0.00000)"
      ]
     },
     "metadata": {},
     "output_type": "display_data"
    },
    {
     "data": {
      "text/html": [
       "<html><script type=\"math/tex; mode=display\">\\newcommand{\\Bold}[1]{\\mathbf{#1}}\\verb|V|\\phantom{\\verb!x!}\\verb|=| \\left[0.00000,\\,0.00000,\\,-1.0000\\right]</script></html>"
      ],
      "text/plain": [
       "'V = ' (0.00000, 0.00000, -1.0000)"
      ]
     },
     "metadata": {},
     "output_type": "display_data"
    }
   ],
   "source": [
    "Uv = Wv.cross_product(Mv)\n",
    "Uv = (1/Uv.norm())*Uv \n",
    "Vv = Wv.cross_product(Uv)\n",
    "pretty_print(\"U = \", Uv.n(prec=20))\n",
    "pretty_print(\"V = \", Vv.n(prec=20))"
   ]
  },
  {
   "cell_type": "code",
   "execution_count": 238,
   "metadata": {
    "collapsed": false
   },
   "outputs": [
    {
     "data": {
      "text/html": [
       "<html><script type=\"math/tex; mode=display\">\\newcommand{\\Bold}[1]{\\mathbf{#1}}\\verb|R|\\phantom{\\verb!x!}\\verb|=| \\left|\\begin{array}{rrr}\n",
       "1.0000 & 0.00000 & 0.00000 \\\\\n",
       "0.00000 & 0.00000 & -1.0000 \\\\\n",
       "0.00000 & 1.0000 & 0.00000\n",
       "\\end{array}\\right|</script></html>"
      ],
      "text/plain": [
       "'R = ' [ 1.0000 0.00000 0.00000]\n",
       "[0.00000 0.00000 -1.0000]\n",
       "[0.00000  1.0000 0.00000]"
      ]
     },
     "metadata": {},
     "output_type": "display_data"
    }
   ],
   "source": [
    "RM    = matrix(SR,[Uv, Vv, Wv])\n",
    "RMt   = RM.transpose()\n",
    "RMRMt = RM * RMt\n",
    "pretty_print(\"R = \", RM.n(prec=20))"
   ]
  },
  {
   "cell_type": "code",
   "execution_count": 239,
   "metadata": {
    "collapsed": false
   },
   "outputs": [
    {
     "data": {
      "text/html": [
       "<html><script type=\"math/tex; mode=display\">\\newcommand{\\Bold}[1]{\\mathbf{#1}}\\left|\\begin{array}{rrr}\n",
       "1.0000 & 0.00000 & 0.00000 \\\\\n",
       "0.00000 & 0.00000 & -1.0000 \\\\\n",
       "0.00000 & 1.0000 & 0.00000\n",
       "\\end{array}\\right| \\left|\\begin{array}{rrr}\n",
       "1.0000 & 0.00000 & 0.00000 \\\\\n",
       "0.00000 & 0.00000 & 1.0000 \\\\\n",
       "0.00000 & -1.0000 & 0.00000\n",
       "\\end{array}\\right| \\phantom{\\verb!x!}\\verb|=| \\left|\\begin{array}{rrr}\n",
       "1.0 & 0.00 & 0.00 \\\\\n",
       "0.00 & 1.0 & 0.00 \\\\\n",
       "0.00 & 0.00 & 1.0\n",
       "\\end{array}\\right|</script></html>"
      ],
      "text/plain": [
       "[ 1.0000 0.00000 0.00000]\n",
       "[0.00000 0.00000 -1.0000]\n",
       "[0.00000  1.0000 0.00000] [ 1.0000 0.00000 0.00000]\n",
       "[0.00000 0.00000  1.0000]\n",
       "[0.00000 -1.0000 0.00000] ' = ' [ 1.0 0.00 0.00]\n",
       "[0.00  1.0 0.00]\n",
       "[0.00 0.00  1.0]"
      ]
     },
     "metadata": {},
     "output_type": "display_data"
    }
   ],
   "source": [
    "pretty_print(RM.n(prec=20), RMt.n(prec=20), \" = \", RMRMt.n(prec=10))"
   ]
  },
  {
   "cell_type": "markdown",
   "metadata": {},
   "source": [
    "### Rotate by theta about the z-axis\n",
    "\n",
    "The 3x3 rotation matrix needed to carry out the rotation is created by using a 2x2 rotation matrix in the x and y positions of a 3x3 matrix leaving the last row and last column as they would appear in an identity matrix."
   ]
  },
  {
   "cell_type": "code",
   "execution_count": 240,
   "metadata": {
    "collapsed": false
   },
   "outputs": [
    {
     "data": {
      "text/html": [
       "<html><script type=\"math/tex; mode=display\">\\newcommand{\\Bold}[1]{\\mathbf{#1}}\\verb|Rz|\\phantom{\\verb!x!}\\verb|=| \\left|\\begin{array}{rrr}\n",
       "-1.0000 & -1.6957 \\times 10^{-31} & 0.00000 \\\\\n",
       "1.6957 \\times 10^{-31} & -1.0000 & 0.00000 \\\\\n",
       "0.00000 & 0.00000 & 1.0000\n",
       "\\end{array}\\right|</script></html>"
      ],
      "text/plain": [
       "'Rz = ' [    -1.0000 -1.6957e-31     0.00000]\n",
       "[ 1.6957e-31     -1.0000     0.00000]\n",
       "[    0.00000     0.00000      1.0000]"
      ]
     },
     "metadata": {},
     "output_type": "display_data"
    }
   ],
   "source": [
    "Re   = RealField(100)\n",
    "arad = (angle / 180) * Re(pi)\n",
    "ca  = cos(arad)\n",
    "sa  = sin(arad)\n",
    "RMz = matrix.identity(SR,3)\n",
    "RMz[0,0] = ca; RMz[0,1] = -sa\n",
    "RMz[1,0] = sa; RMz[1,1] =  ca\n",
    "pretty_print(\"Rz = \", RMz.n(prec=20))"
   ]
  },
  {
   "cell_type": "markdown",
   "metadata": {},
   "source": [
    "### Put the 2 parts together\n",
    "\n",
    "It is best to think in terms of a three part process.  First rotation so that the z-axis becomes the axis about which rotation is to take place.  Next, apply that rotation.  Finally, reverse the original rotation. You may have to think about this final 'reversal' step but indeed it accomplishes what we desire and the final result of multiplying 3 matrices is a single new rotation matrix that transforms all points in accordance with the definition of an axis-angle rotation. "
   ]
  },
  {
   "cell_type": "code",
   "execution_count": 241,
   "metadata": {
    "collapsed": false
   },
   "outputs": [
    {
     "data": {
      "text/html": [
       "<html><script type=\"math/tex; mode=display\">\\newcommand{\\Bold}[1]{\\mathbf{#1}}\\verb|RT|\\phantom{\\verb!x!}\\verb|=| \\left|\\begin{array}{rrr}\n",
       "-1.0000 & 0.00000 & 1.6957 \\times 10^{-31} \\\\\n",
       "0.00000 & 1.0000 & 0.00000 \\\\\n",
       "-1.6957 \\times 10^{-31} & 0.00000 & -1.0000\n",
       "\\end{array}\\right|</script></html>"
      ],
      "text/plain": [
       "'RT = ' [    -1.0000     0.00000  1.6957e-31]\n",
       "[    0.00000      1.0000     0.00000]\n",
       "[-1.6957e-31     0.00000     -1.0000]"
      ]
     },
     "metadata": {},
     "output_type": "display_data"
    }
   ],
   "source": [
    "RT = RMt * RMz * RM\n",
    "pretty_print(\"RT = \", RT.n(prec=20))"
   ]
  },
  {
   "cell_type": "markdown",
   "metadata": {},
   "source": [
    "### See the rotation in action\n",
    "\n",
    "Now let us plot before and after version of a 3D object put through the axis-angle rotation"
   ]
  },
  {
   "cell_type": "code",
   "execution_count": 242,
   "metadata": {
    "collapsed": false
   },
   "outputs": [
    {
     "data": {
      "text/html": [
       "<html><script type=\"math/tex; mode=display\">\\newcommand{\\Bold}[1]{\\mathbf{#1}}\\verb|Before:|\\phantom{\\verb!x!}\\verb|Pts|\\phantom{\\verb!x!}\\verb|=| \\left|\\begin{array}{rrrrrr}\n",
       "1 & 3 & 3 & 2 & 2 & 1 \\\\\n",
       "1 & 1 & 2 & 2 & 4 & 4 \\\\\n",
       "0 & 0 & 0 & 0 & 0 & 0\n",
       "\\end{array}\\right|</script></html>"
      ],
      "text/plain": [
       "'Before: Pts = ' [1 3 3 2 2 1]\n",
       "[1 1 2 2 4 4]\n",
       "[0 0 0 0 0 0]"
      ]
     },
     "metadata": {},
     "output_type": "display_data"
    },
    {
     "data": {
      "text/html": [
       "<html><script type=\"math/tex; mode=display\">\\newcommand{\\Bold}[1]{\\mathbf{#1}}\\verb|After:|\\phantom{\\verb!xx!}\\verb|Pts|\\phantom{\\verb!x!}\\verb|=| \\left|\\begin{array}{rrrrrr}\n",
       "-1.0000 & -3.0000 & -3.0000 & -2.0000 & -2.0000 & -1.0000 \\\\\n",
       "1.0000 & 1.0000 & 2.0000 & 2.0000 & 4.0000 & 4.0000 \\\\\n",
       "-1.6957 \\times 10^{-31} & -5.0871 \\times 10^{-31} & -5.0871 \\times 10^{-31} & -3.3914 \\times 10^{-31} & -3.3914 \\times 10^{-31} & -1.6957 \\times 10^{-31}\n",
       "\\end{array}\\right|</script></html>"
      ],
      "text/plain": [
       "'After:  Pts = ' [    -1.0000     -3.0000     -3.0000     -2.0000     -2.0000     -1.0000]\n",
       "[     1.0000      1.0000      2.0000      2.0000      4.0000      4.0000]\n",
       "[-1.6957e-31 -5.0871e-31 -5.0871e-31 -3.3914e-31 -3.3914e-31 -1.6957e-31]"
      ]
     },
     "metadata": {},
     "output_type": "display_data"
    }
   ],
   "source": [
    "elA = matrix([[1,1],[3,1],[3,2],[2,2],[2,4],[1,4]])\n",
    "elA = elA.augment(matrix(ZZ,6,1, lambda x,y:0))\n",
    "elA = elA.transpose()\n",
    "elB = RT * elA\n",
    "pretty_print(\"Before: Pts = \", elA)\n",
    "pretty_print(\"After:  Pts = \", elB.n(prec=20))"
   ]
  },
  {
   "cell_type": "code",
   "execution_count": 245,
   "metadata": {
    "collapsed": false
   },
   "outputs": [
    {
     "data": {
      "text/html": [
       "\n",
       "<iframe srcdoc=\"\n",
       "<html>\n",
       "<head>\n",
       "  <style>\n",
       "    * {\n",
       "      margin: 0;\n",
       "      padding: 0;\n",
       "      overflow: hidden;\n",
       "    }\n",
       "    body, html {      \n",
       "      height: 100%;\n",
       "      width: 100%;\n",
       "    }\n",
       "  </style>\n",
       "  <script type=&quot;text/javascript&quot; src=&quot;/nbextensions/jsmol/JSmol.min.js&quot;></script>\n",
       "</head>\n",
       "<body>\n",
       "  <script type=&quot;text/javascript&quot;>\n",
       "    var script = [\n",
       "  'data &quot;model list&quot;',\n",
       "  '10',\n",
       "  'empty',\n",
       "  'Xx -3.0 -4.0 -3.0',\n",
       "  'Xx 0.0 -4.0 -3.0',\n",
       "  'Xx 3.0 -4.0 -3.0',\n",
       "  'Xx 4.0 -3.0 -3.0',\n",
       "  'Xx 4.0 0.0 -3.0',\n",
       "  'Xx 4.0 3.0 -3.0',\n",
       "  'Xx -4.0 -3.0 -3.0',\n",
       "  'Xx -4.0 -3.0 0.0',\n",
       "  'Xx -4.0 -3.0 3.0',\n",
       "  'Xx 5.5 5.5 5.5',\n",
       "  'end &quot;model list&quot;; show data',\n",
       "  'select *',\n",
       "  'wireframe off; spacefill off',\n",
       "  'set labelOffset 0 0',\n",
       "  'background [255,255,255]',\n",
       "  'spin OFF',\n",
       "  'moveto 0 -764 -346 -545 76.39',\n",
       "  'centerAt absolute {0 0 0}',\n",
       "  'zoom 100',\n",
       "  'frank OFF',\n",
       "  'set perspectivedepth ON',\n",
       "  'pmesh obj_1 inline &quot;6',\n",
       "  '0.6 0.6 0',\n",
       "  '1.8 0.6 0',\n",
       "  '1.8 1.2 0',\n",
       "  '1.2 1.2 0',\n",
       "  '1.2 2.4 0',\n",
       "  '0.6 2.4 0',\n",
       "  '4',\n",
       "  '4',\n",
       "  '0',\n",
       "  '1',\n",
       "  '2',\n",
       "  '0',\n",
       "  '4',\n",
       "  '0',\n",
       "  '2',\n",
       "  '3',\n",
       "  '0',\n",
       "  '4',\n",
       "  '0',\n",
       "  '3',\n",
       "  '4',\n",
       "  '0',\n",
       "  '4',\n",
       "  '0',\n",
       "  '4',\n",
       "  '5',\n",
       "  '0&quot;',\n",
       "  'color pmesh  [0,128,0]',\n",
       "  'pmesh obj_2 inline &quot;6',\n",
       "  '-0.6 0.6 -1.01741e-31',\n",
       "  '-1.8 0.6 -3.05223e-31',\n",
       "  '-1.8 1.2 -3.05223e-31',\n",
       "  '-1.2 1.2 -2.03482e-31',\n",
       "  '-1.2 2.4 -2.03482e-31',\n",
       "  '-0.6 2.4 -1.01741e-31',\n",
       "  '4',\n",
       "  '4',\n",
       "  '0',\n",
       "  '1',\n",
       "  '2',\n",
       "  '0',\n",
       "  '4',\n",
       "  '0',\n",
       "  '2',\n",
       "  '3',\n",
       "  '0',\n",
       "  '4',\n",
       "  '0',\n",
       "  '3',\n",
       "  '4',\n",
       "  '0',\n",
       "  '4',\n",
       "  '0',\n",
       "  '4',\n",
       "  '5',\n",
       "  '0&quot;',\n",
       "  'color pmesh translucent 0.5 [255,165,0]',\n",
       "  '',\n",
       "  'draw line_3 width 0.012 {0.0 0.0 0.0} {2.892 0.0 1.77083927157e-16}',\n",
       "  'color $line_3  [255,0,0]',\n",
       "  '',\n",
       "  'pmesh obj_4 inline &quot;21',\n",
       "  '3 0 1.83697e-16',\n",
       "  '2.892 0.036 1.77084e-16',\n",
       "  '2.892 0.0111246 -0.034238',\n",
       "  '2.892 -0.0291246 -0.0211603',\n",
       "  '2.892 -0.0291246 0.0211603',\n",
       "  '2.892 0.0111246 0.034238',\n",
       "  '2.892 0 1.77084e-16',\n",
       "  '3 0 1.83697e-16',\n",
       "  '2.892 0.036 1.77084e-16',\n",
       "  '2.892 0.0111246 -0.034238',\n",
       "  '2.892 -0.0291246 -0.0211603',\n",
       "  '2.892 -0.0291246 0.0211603',\n",
       "  '2.892 0.0111246 0.034238',\n",
       "  '3 0 1.83697e-16',\n",
       "  '2.892 0.036 1.77084e-16',\n",
       "  '2.892 0.0111246 -0.034238',\n",
       "  '2.892 -0.0291246 -0.0211603',\n",
       "  '2.892 -0.0291246 0.0211603',\n",
       "  '2.892 0.0111246 0.034238',\n",
       "  '3 0 1.83697e-16',\n",
       "  '3 0 1.83697e-16',\n",
       "  '10',\n",
       "  '4',\n",
       "  '0',\n",
       "  '2',\n",
       "  '1',\n",
       "  '0',\n",
       "  '4',\n",
       "  '7',\n",
       "  '3',\n",
       "  '9',\n",
       "  '7',\n",
       "  '4',\n",
       "  '13',\n",
       "  '4',\n",
       "  '10',\n",
       "  '13',\n",
       "  '4',\n",
       "  '19',\n",
       "  '5',\n",
       "  '11',\n",
       "  '19',\n",
       "  '4',\n",
       "  '20',\n",
       "  '8',\n",
       "  '12',\n",
       "  '20',\n",
       "  '4',\n",
       "  '14',\n",
       "  '15',\n",
       "  '6',\n",
       "  '14',\n",
       "  '4',\n",
       "  '15',\n",
       "  '16',\n",
       "  '6',\n",
       "  '15',\n",
       "  '4',\n",
       "  '16',\n",
       "  '17',\n",
       "  '6',\n",
       "  '16',\n",
       "  '4',\n",
       "  '17',\n",
       "  '18',\n",
       "  '6',\n",
       "  '17',\n",
       "  '4',\n",
       "  '18',\n",
       "  '14',\n",
       "  '6',\n",
       "  '18&quot;',\n",
       "  'color pmesh  [255,0,0]',\n",
       "  'draw line_5 diameter 1 curve {0.0 0.0 0.0}  {-3.0 0.0 0.0} ',\n",
       "  'color $line_5  [255,0,0]',\n",
       "  '',\n",
       "  'draw line_6 width 0.012 {0.0 0.0 0.0} {0.0 2.892 1.77083927157e-16}',\n",
       "  'color $line_6  [0,128,0]',\n",
       "  '',\n",
       "  'pmesh obj_7 inline &quot;21',\n",
       "  '0 3 1.83697e-16',\n",
       "  '0 2.892 -0.036',\n",
       "  '0.034238 2.892 -0.0111246',\n",
       "  '0.0211603 2.892 0.0291246',\n",
       "  '-0.0211603 2.892 0.0291246',\n",
       "  '-0.034238 2.892 -0.0111246',\n",
       "  '0 2.892 1.77084e-16',\n",
       "  '0 3 1.83697e-16',\n",
       "  '0 2.892 -0.036',\n",
       "  '0.034238 2.892 -0.0111246',\n",
       "  '0.0211603 2.892 0.0291246',\n",
       "  '-0.0211603 2.892 0.0291246',\n",
       "  '-0.034238 2.892 -0.0111246',\n",
       "  '0 3 1.83697e-16',\n",
       "  '0 2.892 -0.036',\n",
       "  '0.034238 2.892 -0.0111246',\n",
       "  '0.0211603 2.892 0.0291246',\n",
       "  '-0.0211603 2.892 0.0291246',\n",
       "  '-0.034238 2.892 -0.0111246',\n",
       "  '0 3 1.83697e-16',\n",
       "  '0 3 1.83697e-16',\n",
       "  '10',\n",
       "  '4',\n",
       "  '0',\n",
       "  '2',\n",
       "  '1',\n",
       "  '0',\n",
       "  '4',\n",
       "  '7',\n",
       "  '3',\n",
       "  '9',\n",
       "  '7',\n",
       "  '4',\n",
       "  '13',\n",
       "  '4',\n",
       "  '10',\n",
       "  '13',\n",
       "  '4',\n",
       "  '19',\n",
       "  '5',\n",
       "  '11',\n",
       "  '19',\n",
       "  '4',\n",
       "  '20',\n",
       "  '8',\n",
       "  '12',\n",
       "  '20',\n",
       "  '4',\n",
       "  '14',\n",
       "  '15',\n",
       "  '6',\n",
       "  '14',\n",
       "  '4',\n",
       "  '15',\n",
       "  '16',\n",
       "  '6',\n",
       "  '15',\n",
       "  '4',\n",
       "  '16',\n",
       "  '17',\n",
       "  '6',\n",
       "  '16',\n",
       "  '4',\n",
       "  '17',\n",
       "  '18',\n",
       "  '6',\n",
       "  '17',\n",
       "  '4',\n",
       "  '18',\n",
       "  '14',\n",
       "  '6',\n",
       "  '18&quot;',\n",
       "  'color pmesh  [0,128,0]',\n",
       "  'draw line_8 diameter 1 curve {0.0 0.0 0.0}  {0.0 -3.0 0.0} ',\n",
       "  'color $line_8  [0,128,0]',\n",
       "  '',\n",
       "  'draw line_9 width 0.012 {0.0 0.0 0.0} {0.0 0.0 2.892}',\n",
       "  'color $line_9  [0,0,255]',\n",
       "  '',\n",
       "  'pmesh obj_10 inline &quot;21',\n",
       "  '0 0 3',\n",
       "  '0 0.036 2.892',\n",
       "  '0.034238 0.0111246 2.892',\n",
       "  '0.0211603 -0.0291246 2.892',\n",
       "  '-0.0211603 -0.0291246 2.892',\n",
       "  '-0.034238 0.0111246 2.892',\n",
       "  '0 0 2.892',\n",
       "  '0 0 3',\n",
       "  '0 0.036 2.892',\n",
       "  '0.034238 0.0111246 2.892',\n",
       "  '0.0211603 -0.0291246 2.892',\n",
       "  '-0.0211603 -0.0291246 2.892',\n",
       "  '-0.034238 0.0111246 2.892',\n",
       "  '0 0 3',\n",
       "  '0 0.036 2.892',\n",
       "  '0.034238 0.0111246 2.892',\n",
       "  '0.0211603 -0.0291246 2.892',\n",
       "  '-0.0211603 -0.0291246 2.892',\n",
       "  '-0.034238 0.0111246 2.892',\n",
       "  '0 0 3',\n",
       "  '0 0 3',\n",
       "  '10',\n",
       "  '4',\n",
       "  '0',\n",
       "  '2',\n",
       "  '1',\n",
       "  '0',\n",
       "  '4',\n",
       "  '7',\n",
       "  '3',\n",
       "  '9',\n",
       "  '7',\n",
       "  '4',\n",
       "  '13',\n",
       "  '4',\n",
       "  '10',\n",
       "  '13',\n",
       "  '4',\n",
       "  '19',\n",
       "  '5',\n",
       "  '11',\n",
       "  '19',\n",
       "  '4',\n",
       "  '20',\n",
       "  '8',\n",
       "  '12',\n",
       "  '20',\n",
       "  '4',\n",
       "  '14',\n",
       "  '15',\n",
       "  '6',\n",
       "  '14',\n",
       "  '4',\n",
       "  '15',\n",
       "  '16',\n",
       "  '6',\n",
       "  '15',\n",
       "  '4',\n",
       "  '16',\n",
       "  '17',\n",
       "  '6',\n",
       "  '16',\n",
       "  '4',\n",
       "  '17',\n",
       "  '18',\n",
       "  '6',\n",
       "  '17',\n",
       "  '4',\n",
       "  '18',\n",
       "  '14',\n",
       "  '6',\n",
       "  '18&quot;',\n",
       "  'color pmesh  [0,0,255]',\n",
       "  'draw line_11 diameter 1 curve {0.0 0.0 0.0}  {0.0 0.0 -3.0} ',\n",
       "  'color $line_11  [0,0,255]',\n",
       "  'draw line_12 diameter 1 curve {-3.0 -3.0 -3.0}  {-3.0 3.0 -3.0} ',\n",
       "  'color $line_12 translucent 0.5 [0,0,0]',\n",
       "  'draw line_13 diameter 1 curve {-3.0 3.0 -3.0}  {3.0 3.0 -3.0} ',\n",
       "  'color $line_13 translucent 0.5 [0,0,0]',\n",
       "  'draw line_14 diameter 1 curve {3.0 3.0 -3.0}  {3.0 -3.0 -3.0} ',\n",
       "  'color $line_14 translucent 0.5 [0,0,0]',\n",
       "  'draw line_15 diameter 1 curve {3.0 -3.0 -3.0}  {-3.0 -3.0 -3.0} ',\n",
       "  'color $line_15 translucent 0.5 [0,0,0]',\n",
       "  'draw line_16 diameter 1 curve {-3.0 -3.0 -3.0}  {-3.0 -3.0 3.0} ',\n",
       "  'color $line_16 translucent 0.5 [0,0,0]',\n",
       "  'draw line_17 diameter 1 curve {-3.0 -3.0 3.0}  {-3.0 3.0 3.0} ',\n",
       "  'color $line_17 translucent 0.5 [0,0,0]',\n",
       "  'draw line_18 diameter 1 curve {-3.0 3.0 3.0}  {3.0 3.0 3.0} ',\n",
       "  'color $line_18 translucent 0.5 [0,0,0]',\n",
       "  'draw line_19 diameter 1 curve {3.0 3.0 3.0}  {3.0 -3.0 3.0} ',\n",
       "  'color $line_19 translucent 0.5 [0,0,0]',\n",
       "  'draw line_20 diameter 1 curve {3.0 -3.0 3.0}  {-3.0 -3.0 3.0} ',\n",
       "  'color $line_20 translucent 0.5 [0,0,0]',\n",
       "  'draw line_21 diameter 1 curve {-3.0 -3.0 3.0} ',\n",
       "  'color $line_21 translucent 0.5 [0,0,0]',\n",
       "  'draw line_22 diameter 1 curve {-3.0 3.0 -3.0}  {-3.0 3.0 3.0} ',\n",
       "  'color $line_22 translucent 0.5 [0,0,0]',\n",
       "  'draw line_23 diameter 1 curve {3.0 -3.0 -3.0}  {3.0 -3.0 3.0} ',\n",
       "  'color $line_23 translucent 0.5 [0,0,0]',\n",
       "  'draw line_24 diameter 1 curve {3.0 3.0 -3.0}  {3.0 3.0 3.0} ',\n",
       "  'color $line_24 translucent 0.5 [0,0,0]',\n",
       "  'select atomno = 1',\n",
       "  'color atom  [76,76,76]',\n",
       "  'label &quot;-5.0&quot;',\n",
       "  'select atomno = 2',\n",
       "  'color atom  [76,76,76]',\n",
       "  'label &quot;0.0&quot;',\n",
       "  'select atomno = 3',\n",
       "  'color atom  [76,76,76]',\n",
       "  'label &quot;5.0&quot;',\n",
       "  'select atomno = 4',\n",
       "  'color atom  [76,76,76]',\n",
       "  'label &quot;-5.0&quot;',\n",
       "  'select atomno = 5',\n",
       "  'color atom  [76,76,76]',\n",
       "  'label &quot;0.0&quot;',\n",
       "  'select atomno = 6',\n",
       "  'color atom  [76,76,76]',\n",
       "  'label &quot;5.0&quot;',\n",
       "  'select atomno = 7',\n",
       "  'color atom  [76,76,76]',\n",
       "  'label &quot;-5.0&quot;',\n",
       "  'select atomno = 8',\n",
       "  'color atom  [76,76,76]',\n",
       "  'label &quot;0.0&quot;',\n",
       "  'select atomno = 9',\n",
       "  'color atom  [76,76,76]',\n",
       "  'label &quot;5.0&quot;',\n",
       "  'isosurface fullylit; pmesh o* fullylit; set antialiasdisplay on;',\n",
       "].join('\\n');;\n",
       "    var Info = {\n",
       "      width: '100%',\n",
       "      height: '500',\n",
       "      debug: false,\n",
       "      disableInitialConsole: true,   // very slow when used with inline mesh\n",
       "      color: '#3131ff',\n",
       "      addSelectionOptions: false,\n",
       "      use: 'HTML5',\n",
       "      j2sPath: '/nbextensions/jsmol/j2s',\n",
       "      script: script,\n",
       "    };\n",
       "    var jmolApplet0 = Jmol.getApplet('jmolApplet0', Info);\n",
       "  </script>\n",
       "</body>\n",
       "</html>\n",
       "\" \n",
       "        width=\"100%\"\n",
       "        height=\"500\"\n",
       "        style=\"border: 0;\">\n",
       "</iframe>\n"
      ],
      "text/plain": [
       "Graphics3d Object"
      ]
     },
     "metadata": {},
     "output_type": "display_data"
    }
   ],
   "source": [
    "ptsA = list(elA[0:3,:].transpose())\n",
    "ptsB = list(elB[0:3,:].transpose())\n",
    "gelA = polygon3d(ptsA,color='green')\n",
    "gelB = polygon3d(ptsB,color='orange',alpha=0.5)\n",
    "bnd = 5\n",
    "xaxes = arrow3d([0,0,0],[bnd,0,0],color='red')   + line3d([[0,0,0],[-bnd,0,0]],color='red')\n",
    "yaxes = arrow3d([0,0,0],[0,bnd,0],color='green')  + line3d([[0,0,0],[0,-bnd, 0]],color='green')\n",
    "zaxes = arrow3d([0,0,0],[0,0,bnd],color='blue') + line3d([[0,0,0],[0,0, -bnd]],color='blue')\n",
    "gos = gelA + gelB + xaxes + yaxes + zaxes\n",
    "gos.show(xmin=-bnd, ymin=-bnd, xmax=bnd, ymax=bnd, aspect_ratio=1)"
   ]
  },
  {
   "cell_type": "markdown",
   "metadata": {},
   "source": [
    "### Go back and try different rotations\n",
    "\n",
    "Much of the value in this notebook is to enter different axis-angle combinations and see what happens"
   ]
  },
  {
   "cell_type": "code",
   "execution_count": null,
   "metadata": {
    "collapsed": true
   },
   "outputs": [],
   "source": []
  }
 ],
 "metadata": {
  "kernelspec": {
   "display_name": "SageMath 8.0",
   "language": "",
   "name": "sagemath"
  },
  "language_info": {
   "codemirror_mode": {
    "name": "ipython",
    "version": 2
   },
   "file_extension": ".py",
   "mimetype": "text/x-python",
   "name": "python",
   "nbconvert_exporter": "python",
   "pygments_lexer": "ipython2",
   "version": "2.7.13"
  }
 },
 "nbformat": 4,
 "nbformat_minor": 2
}
