{
 "cells": [
  {
   "cell_type": "markdown",
   "metadata": {},
   "source": [
    "## Ray Sphere Intersection Brute Force\n",
    "\n",
    "In this notebook is the general solution to a ray sphere interesection worked out in what might be considered the obvious manner. It is worth understanding as an illustration of the general approach.  It is NOT the best way to compute ray sphere intersections as will be highlighted and notebook to follow.\n",
    "\n",
    "Ross Beveridge, September 21, 2017"
   ]
  },
  {
   "cell_type": "code",
   "execution_count": 30,
   "metadata": {
    "collapsed": false
   },
   "outputs": [
    {
     "data": {
      "text/html": [
       "<html><script type=\"math/tex; mode=display\">\\newcommand{\\Bold}[1]{\\mathbf{#1}}\\verb|Sphere|\\phantom{\\verb!x!}\\verb|center:|\\phantom{\\verb!x!}\\verb|C|\\phantom{\\verb!x!}\\verb|=| \\left(\\mathit{cx},\\,\\mathit{cy},\\,\\mathit{cz}\\right)</script></html>"
      ],
      "text/plain": [
       "'Sphere center: C = ' (cx, cy, cz)"
      ]
     },
     "metadata": {},
     "output_type": "display_data"
    },
    {
     "data": {
      "text/html": [
       "<html><script type=\"math/tex; mode=display\">\\newcommand{\\Bold}[1]{\\mathbf{#1}}\\verb|Ray|\\phantom{\\verb!x!}\\verb|start:|\\phantom{\\verb!xxxxx!}\\verb|L|\\phantom{\\verb!x!}\\verb|=| \\left(\\mathit{lx},\\,\\mathit{ly},\\,\\mathit{lz}\\right)</script></html>"
      ],
      "text/plain": [
       "'Ray start:     L = ' (lx, ly, lz)"
      ]
     },
     "metadata": {},
     "output_type": "display_data"
    },
    {
     "data": {
      "text/html": [
       "<html><script type=\"math/tex; mode=display\">\\newcommand{\\Bold}[1]{\\mathbf{#1}}\\verb|Ray|\\phantom{\\verb!x!}\\verb|direction:|\\phantom{\\verb!x!}\\verb|U|\\phantom{\\verb!x!}\\verb|=| \\left(\\mathit{ux},\\,\\mathit{uy},\\,\\mathit{uz}\\right)</script></html>"
      ],
      "text/plain": [
       "'Ray direction: U = ' (ux, uy, uz)"
      ]
     },
     "metadata": {},
     "output_type": "display_data"
    },
    {
     "data": {
      "text/html": [
       "<html><script type=\"math/tex; mode=display\">\\newcommand{\\Bold}[1]{\\mathbf{#1}}\\verb|Base|\\phantom{\\verb!x!}\\verb|to|\\phantom{\\verb!x!}\\verb|Center:|\\phantom{\\verb!x!}\\verb|T|\\phantom{\\verb!x!}\\verb|=| \\left(\\mathit{cx} - \\mathit{lx},\\,\\mathit{cy} - \\mathit{ly},\\,\\mathit{cz} - \\mathit{lz}\\right)</script></html>"
      ],
      "text/plain": [
       "'Base to Center: T = ' (cx - lx, cy - ly, cz - lz)"
      ]
     },
     "metadata": {},
     "output_type": "display_data"
    }
   ],
   "source": [
    "latex.matrix_delimiters(\"[\", \"]\")\n",
    "import sympy\n",
    "var('r, s');\n",
    "Cv = vector(SR, 3, var('cx, cy, cz'));\n",
    "Lv = vector(SR, 3, var('lx, ly, lz'));\n",
    "Uv = vector(SR, 3, var('ux, uy, uz'));\n",
    "Pv = vector(SR, 3, var('x, y, z'));\n",
    "Tv = vector(SR, 3, var('tx, ty, tz'));\n",
    "pretty_print(\"Sphere center: C = \", Cv);\n",
    "pretty_print(\"Ray start:     L = \", Lv);\n",
    "pretty_print(\"Ray direction: U = \", Uv);\n",
    "pretty_print(\"Base to Center: T = \", Cv - Lv);"
   ]
  },
  {
   "cell_type": "markdown",
   "metadata": {},
   "source": [
    "The implicit form that defines all points on the sphere of radius r is shown below as is the parametric form for the ray. A note about presentation, the ray is being shown as a vector that is written out as a row vector.  This makes no substantive difference, but the pretty print version of the ray may not a first match your expectation. "
   ]
  },
  {
   "cell_type": "code",
   "execution_count": 31,
   "metadata": {
    "collapsed": false
   },
   "outputs": [
    {
     "data": {
      "text/html": [
       "<html><script type=\"math/tex; mode=display\">\\newcommand{\\Bold}[1]{\\mathbf{#1}}{\\left(\\mathit{cx} - x\\right)}^{2} + {\\left(\\mathit{cy} - y\\right)}^{2} + {\\left(\\mathit{cz} - z\\right)}^{2} - r^{2} = 0</script></html>"
      ],
      "text/plain": [
       "(cx - x)^2 + (cy - y)^2 + (cz - z)^2 - r^2 == 0"
      ]
     },
     "metadata": {},
     "output_type": "display_data"
    },
    {
     "data": {
      "text/html": [
       "<html><script type=\"math/tex; mode=display\">\\newcommand{\\Bold}[1]{\\mathbf{#1}}{R(s)\\:=\\:} \\left(s \\mathit{ux} + \\mathit{lx},\\,s \\mathit{uy} + \\mathit{ly},\\,s \\mathit{uz} + \\mathit{lz}\\right)</script></html>"
      ],
      "text/plain": [
       "{R(s)\\:=\\:} (s*ux + lx, s*uy + ly, s*uz + lz)"
      ]
     },
     "metadata": {},
     "output_type": "display_data"
    }
   ],
   "source": [
    "eq1 = ((Pv - Cv)*(Pv - Cv) - r^2 == 0)\n",
    "ray = Lv + s * Uv; \n",
    "pretty_print(eq1)\n",
    "pretty_print(LatexExpr(\"{R(s)\\:=\\:}\"),ray)"
   ]
  },
  {
   "cell_type": "markdown",
   "metadata": {},
   "source": [
    "There is an obvious way to take these two equations and create a new single equation in a single unknown, s, the ray parameter.  Namely, substitute the X, Y, and Z components from the ray into the sphere equation."
   ]
  },
  {
   "cell_type": "code",
   "execution_count": 32,
   "metadata": {
    "collapsed": false
   },
   "outputs": [
    {
     "data": {
      "text/html": [
       "<html><script type=\"math/tex; mode=display\">\\newcommand{\\Bold}[1]{\\mathbf{#1}}{\\left(s \\mathit{ux} - \\mathit{cx} + \\mathit{lx}\\right)}^{2} + {\\left(s \\mathit{uy} - \\mathit{cy} + \\mathit{ly}\\right)}^{2} + {\\left(s \\mathit{uz} - \\mathit{cz} + \\mathit{lz}\\right)}^{2} - r^{2} = 0</script></html>"
      ],
      "text/plain": [
       "(s*ux - cx + lx)^2 + (s*uy - cy + ly)^2 + (s*uz - cz + lz)^2 - r^2 == 0"
      ]
     },
     "metadata": {},
     "output_type": "display_data"
    }
   ],
   "source": [
    "eq2 = (eq1.lhs()(x=ray[0],y=ray[1],z=ray[2]) == 0)\n",
    "pretty_print(eq2)"
   ]
  },
  {
   "cell_type": "markdown",
   "metadata": {},
   "source": [
    "Now introduce a simpllification by naming a new vector T that goes from the sphere center to the base of the ray."
   ]
  },
  {
   "cell_type": "code",
   "execution_count": 33,
   "metadata": {
    "collapsed": false
   },
   "outputs": [
    {
     "data": {
      "text/html": [
       "<html><script type=\"math/tex; mode=display\">\\newcommand{\\Bold}[1]{\\mathbf{#1}}{\\left(s \\mathit{ux} - \\mathit{tx}\\right)}^{2} + {\\left(s \\mathit{uy} - \\mathit{ty}\\right)}^{2} + {\\left(s \\mathit{uz} - \\mathit{tz}\\right)}^{2} - r^{2} = 0</script></html>"
      ],
      "text/plain": [
       "(s*ux - tx)^2 + (s*uy - ty)^2 + (s*uz - tz)^2 - r^2 == 0"
      ]
     },
     "metadata": {},
     "output_type": "display_data"
    }
   ],
   "source": [
    "eq2s = sympy.sympify(eq2.lhs());\n",
    "eq2ss = SR(eq2s.subs([(cx-lx,tx),(cy-ly,ty),(cz-lz,tz)]));\n",
    "eq3 = (eq2ss == 0); \n",
    "pretty_print(eq3)"
   ]
  },
  {
   "cell_type": "markdown",
   "metadata": {},
   "source": [
    "Expand the terms and collect relative to the variable s.  "
   ]
  },
  {
   "cell_type": "code",
   "execution_count": 34,
   "metadata": {
    "collapsed": false
   },
   "outputs": [
    {
     "data": {
      "text/html": [
       "<html><script type=\"math/tex; mode=display\">\\newcommand{\\Bold}[1]{\\mathbf{#1}}{\\left(\\mathit{ux}^{2} + \\mathit{uy}^{2} + \\mathit{uz}^{2}\\right)} s^{2} - r^{2} - 2 \\, {\\left(\\mathit{tx} \\mathit{ux} + \\mathit{ty} \\mathit{uy} + \\mathit{tz} \\mathit{uz}\\right)} s + \\mathit{tx}^{2} + \\mathit{ty}^{2} + \\mathit{tz}^{2} = 0</script></html>"
      ],
      "text/plain": [
       "(ux^2 + uy^2 + uz^2)*s^2 - r^2 - 2*(tx*ux + ty*uy + tz*uz)*s + tx^2 + ty^2 + tz^2 == 0"
      ]
     },
     "metadata": {},
     "output_type": "display_data"
    }
   ],
   "source": [
    "eq4  = eq3.expand(); \n",
    "eq4l = eq4.lhs().collect(s);\n",
    "eq4  = (eq4l == 0); \n",
    "pretty_print(eq4);"
   ]
  },
  {
   "cell_type": "markdown",
   "metadata": {},
   "source": [
    "Now a key constraint enters into play, the direction vector U is unit length so the s squared term's lead constant equals 1"
   ]
  },
  {
   "cell_type": "code",
   "execution_count": 35,
   "metadata": {
    "collapsed": false
   },
   "outputs": [
    {
     "data": {
      "text/html": [
       "<html><script type=\"math/tex; mode=display\">\\newcommand{\\Bold}[1]{\\mathbf{#1}}-r^{2} - 2 \\, {\\left(\\mathit{tx} \\mathit{ux} + \\mathit{ty} \\mathit{uy} + \\mathit{tz} \\mathit{uz}\\right)} s + s^{2} + \\mathit{tx}^{2} + \\mathit{ty}^{2} + \\mathit{tz}^{2} = 0</script></html>"
      ],
      "text/plain": [
       "-r^2 - 2*(tx*ux + ty*uy + tz*uz)*s + s^2 + tx^2 + ty^2 + tz^2 == 0"
      ]
     },
     "metadata": {},
     "output_type": "display_data"
    }
   ],
   "source": [
    "eq4s  = sympy.sympify(eq4.lhs());\n",
    "eq4l = SR(eq4s.subs(ux^2 + uy^2 + uz^2,1));\n",
    "eq4l = eq4l.collect(s);\n",
    "eq5 = (eq4l == 0); \n",
    "pretty_print(eq5);"
   ]
  },
  {
   "cell_type": "markdown",
   "metadata": {},
   "source": [
    "At this point we have a simple quadratic equation to solve in order to find the two possible values of s.  That there are two values in general makes geometric sense, they are the points where the ray enters and leaves the sphere.  Also, should the values of s be imaginary that is indicating a geometric configuration where the ray does not intersect the sphere."
   ]
  },
  {
   "cell_type": "code",
   "execution_count": 36,
   "metadata": {
    "collapsed": false
   },
   "outputs": [
    {
     "data": {
      "text/html": [
       "<html><script type=\"math/tex; mode=display\">\\newcommand{\\Bold}[1]{\\mathbf{#1}}s = \\mathit{tx} \\mathit{ux} + \\mathit{ty} \\mathit{uy} + \\mathit{tz} \\mathit{uz} - \\sqrt{\\mathit{tx}^{2} \\mathit{ux}^{2} + 2 \\, \\mathit{tx} \\mathit{ty} \\mathit{ux} \\mathit{uy} + \\mathit{ty}^{2} \\mathit{uy}^{2} + \\mathit{tz}^{2} \\mathit{uz}^{2} + r^{2} - \\mathit{tx}^{2} - \\mathit{ty}^{2} - \\mathit{tz}^{2} + 2 \\, {\\left(\\mathit{tx} \\mathit{tz} \\mathit{ux} + \\mathit{ty} \\mathit{tz} \\mathit{uy}\\right)} \\mathit{uz}}</script></html>"
      ],
      "text/plain": [
       "s == tx*ux + ty*uy + tz*uz - sqrt(tx^2*ux^2 + 2*tx*ty*ux*uy + ty^2*uy^2 + tz^2*uz^2 + r^2 - tx^2 - ty^2 - tz^2 + 2*(tx*tz*ux + ty*tz*uy)*uz)"
      ]
     },
     "metadata": {},
     "output_type": "display_data"
    },
    {
     "data": {
      "text/html": [
       "<html><script type=\"math/tex; mode=display\">\\newcommand{\\Bold}[1]{\\mathbf{#1}}s = \\mathit{tx} \\mathit{ux} + \\mathit{ty} \\mathit{uy} + \\mathit{tz} \\mathit{uz} + \\sqrt{\\mathit{tx}^{2} \\mathit{ux}^{2} + 2 \\, \\mathit{tx} \\mathit{ty} \\mathit{ux} \\mathit{uy} + \\mathit{ty}^{2} \\mathit{uy}^{2} + \\mathit{tz}^{2} \\mathit{uz}^{2} + r^{2} - \\mathit{tx}^{2} - \\mathit{ty}^{2} - \\mathit{tz}^{2} + 2 \\, {\\left(\\mathit{tx} \\mathit{tz} \\mathit{ux} + \\mathit{ty} \\mathit{tz} \\mathit{uy}\\right)} \\mathit{uz}}</script></html>"
      ],
      "text/plain": [
       "s == tx*ux + ty*uy + tz*uz + sqrt(tx^2*ux^2 + 2*tx*ty*ux*uy + ty^2*uy^2 + tz^2*uz^2 + r^2 - tx^2 - ty^2 - tz^2 + 2*(tx*tz*ux + ty*tz*uy)*uz)"
      ]
     },
     "metadata": {},
     "output_type": "display_data"
    }
   ],
   "source": [
    "res = solve(eq5,s);\n",
    "show(res[0]); show(res[1]);"
   ]
  },
  {
   "cell_type": "markdown",
   "metadata": {},
   "source": [
    "In closing, understanding how this general problem was solved by substituting the X, Y and Z elments of the array into the equation for the sphere is useful.  This approach generalizes to other geometric objects defined by implicit forms, and do note we used the implicit form to define our sphere.  \n",
    "\n",
    "Equally important, while you may want to code this solution as a debugging check for you faster algorithm, you will want to use the faster ray sphere intersection being introduced next. "
   ]
  }
 ],
 "metadata": {
  "kernelspec": {
   "display_name": "SageMath 8.0",
   "language": "",
   "name": "sagemath"
  },
  "language_info": {
   "codemirror_mode": {
    "name": "ipython",
    "version": 2
   },
   "file_extension": ".py",
   "mimetype": "text/x-python",
   "name": "python",
   "nbconvert_exporter": "python",
   "pygments_lexer": "ipython2",
   "version": "2.7.13"
  }
 },
 "nbformat": 4,
 "nbformat_minor": 2
}
