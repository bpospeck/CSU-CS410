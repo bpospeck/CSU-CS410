{
 "cells": [
  {
   "cell_type": "markdown",
   "metadata": {
    "deletable": true,
    "editable": true
   },
   "source": [
    "## Illumination Illustrated for a Sphere\n",
    "\n",
    "In this Notebook is a full implementation of ambient, diffuse and specular reflection - in color - for a scene consisting of one sphere.   The lightiing parameters and material properties, along with the camera setup, can all be adjusted to experiment with different possibilities.  The resulting rendered image is captuere as an image and displayed as such.\n",
    "\n",
    "Ross Beveridge, October 5, 2017"
   ]
  },
  {
   "cell_type": "markdown",
   "metadata": {
    "deletable": true,
    "editable": true
   },
   "source": [
    "### SageMath setup. \n",
    "\n",
    "In this notebook we are taking advantage of support for images provided as part of SageMath. Also, if the image being rendered is 8x8 or smaller a 3D interactive plot is constructed to help sanity check the relative position of the camera, object and lights. "
   ]
  },
  {
   "cell_type": "code",
   "execution_count": 1,
   "metadata": {
    "collapsed": true,
    "deletable": true,
    "editable": true
   },
   "outputs": [],
   "source": [
    "from sage.repl.image import Image\n",
    "from sage.plot.plot3d.shapes import *\n",
    "from sage.plot.plot3d.base import SHOW_DEFAULTS\n",
    "SHOW_DEFAULTS['aspect_ratio'] = (1,1,1)\n",
    "SHOW_DEFAULTS['frame_aspect_ratio'] = (1,1,1)\n",
    "SHOW_DEFAULTS['perspective_depth'] = false"
   ]
  },
  {
   "cell_type": "markdown",
   "metadata": {
    "deletable": true,
    "editable": true
   },
   "source": [
    "### Scene setup - Base Case\n",
    "\n",
    "The next code sets up the scene to be rendered.  It includes information about the camera, the single object including material properties, and finally lights."
   ]
  },
  {
   "cell_type": "code",
   "execution_count": 2,
   "metadata": {
    "collapsed": false,
    "deletable": true,
    "editable": true
   },
   "outputs": [],
   "source": [
    "cam = {'eye'  : vector(RR, 3, (25, 25, 60)),\n",
    "       'look' : vector(RR, 3, (25, 25, 10)),\n",
    "       'up'   : vector(RR, 3, (0, 1, 0)),\n",
    "       'bnds' : { 'l' :-1, 'r' : 1, 'b' : -1, 't' : 1},\n",
    "       'nefa' : { 'near' : -10, 'far' : -60},\n",
    "       'resl' : { 'width' : 64, 'height' : 64} } \n",
    "globe = {'c'  : vector(RR, 3, (25,25,10)), 'r' : 4.0 }\n",
    "mat1  = {'ka' : vector(RR, 3, (0.2, 0.2, 0.2)),\n",
    "         'kd' : vector(RR, 3, (0.7, 0.7, 0.7)),\n",
    "         'ks' : vector(RR, 3, (0.5, 0.5, 0.5)) }\n",
    "ambient = vector(RR, 3, (0.2, 0.2, 0.2))\n",
    "lights  = [{'p' : vector(RR, 3, ( 5, 32, 30)), \n",
    "            'e' : vector(RR, 3, (0.5, 1.0, 0.5))},\n",
    "           {'p' : vector(RR, 3, (45, 32, 30)), \n",
    "            'e' : vector(RR, 3, (1.0, 0.5, 0.5))} ]\n",
    "phong  = 16"
   ]
  },
  {
   "cell_type": "markdown",
   "metadata": {
    "deletable": true,
    "editable": true
   },
   "source": [
    "### Incremental Changes Go Here\n",
    "\n",
    "Working off the complete configuration above, the following is a convenient place to make changes and then see how the rendered images changes"
   ]
  },
  {
   "cell_type": "code",
   "execution_count": 3,
   "metadata": {
    "collapsed": false,
    "deletable": true,
    "editable": true
   },
   "outputs": [],
   "source": [
    "# Turn on and off following line to see scene geometry\n",
    "# cam['resl']['width'] = 8; cam['resl']['height'] = 8; \n"
   ]
  },
  {
   "cell_type": "markdown",
   "metadata": {
    "deletable": true,
    "editable": true
   },
   "source": [
    "### 'Unpacking' - Setup Code to Render an Example\n",
    "\n",
    "The following code create the necessary data structure and variables required later to actually ray trace the scene.  In particular notice the camera setup which should by now be familiar to you."
   ]
  },
  {
   "cell_type": "code",
   "execution_count": 4,
   "metadata": {
    "collapsed": true,
    "deletable": true,
    "editable": true
   },
   "outputs": [],
   "source": [
    "var('umin, umax, vmin, vmax, near, far')\n",
    "CEv = cam['eye'] ; CLv = cam['look']; CUPv = cam['up']\n",
    "CWv = CEv - CLv; CWv = CWv / CWv.norm();\n",
    "CUv = CUPv.cross_product(CWv); CUv = CUv / CUv.norm();\n",
    "CVv = CWv.cross_product(CUv);\n",
    "bs = cam['bnds']; right = bs['r']; left = bs['l']; top = bs['t']; bottom = bs['b']\n",
    "nf = cam['nefa']; near = nf['near']; far = nf['far']\n",
    "rs = cam['resl']; width = rs['width']; height = rs['height']"
   ]
  },
  {
   "cell_type": "markdown",
   "metadata": {
    "deletable": true,
    "editable": true
   },
   "source": [
    "### Define a Pixel Ray Object\n",
    "\n",
    "Define a function to creates an object representing a ray eminating from a pixel..  This object is implemented as a Python Dictionary object with a base point and direction vector. This is consitent with how we've been expressing rays throughout our treatment of ray casting.  If the width of the image is small, the code below will produced a 3D visualization of the rays. "
   ]
  },
  {
   "cell_type": "code",
   "execution_count": 5,
   "metadata": {
    "collapsed": false,
    "deletable": true,
    "editable": true
   },
   "outputs": [],
   "source": [
    "def pixelRay(i,j) :\n",
    "    px = RR(i/(width-1)*(right-left)+left)\n",
    "    py = RR(j/(height-1)*(top-bottom)+bottom)\n",
    "    # Naming is base point L and direction U\n",
    "    Lv = CEv + (near * CWv) + (px * CUv) + (py * CVv)\n",
    "    Uv = Lv - CEv; Uv = Uv / Uv.norm()\n",
    "    return {'L' : Lv, 'U' : Uv}\n",
    "rays =[pixelRay(i,j) for i in range(width) for j in range(height)]\n",
    "if (width <= 8) : \n",
    "    def gAxe(pt,c) : \n",
    "        return line3d([(0,0,0),pt],thickness=5,color=c)\n",
    "    def axes() : \n",
    "        return map(gAxe,[(75,0,0),(0,75,0),(0,0,75)],['red','green','blue'])\n",
    "    def gRay(r) :\n",
    "        rayfar = r['L'] + r['U'] * abs((far-near))\n",
    "        return [point(r['L'], size=10), arrow3d(r['L'], rayfar, width=4,color='orange')]\n",
    "    gRays   = [e for sub in map(gRay, rays) for e in sub]\n",
    "    gEye    = point(CEv, color='red', size=8)\n",
    "    gGlobe  = Sphere(globe['r'],color=Color(list(mat1['kd']))).translate(globe['c'])\n",
    "    gLights = [point(lights[i]['p'], color=Color(list(lights[i]['e'])),size=16) for i in range(len(lights))]\n",
    "    figcon  = sum(gRays + axes()) + gGlobe + gEye + sum(gLights)\n",
    "    figcon.show(aspect_ratio=1)"
   ]
  },
  {
   "cell_type": "markdown",
   "metadata": {
    "deletable": true,
    "editable": true
   },
   "source": [
    "### Compute Color for a Pixel\n",
    "\n",
    "The key bit of code needed is that which computes the illumination (red, green, blue) at a point of interesection between a ray and a sphere.  This is two step process. First, is there an intersection. Second, if so, what amount of red, green and blue should be returned.\n",
    "\n",
    "Notice this code is hardwired for a single Sphere in order to simplify the example. In other words, there is no looping through a set of objects retaining that which is closest to the camera. \n",
    "\n",
    "Also notice that the complete ambient, diffuse and specular illumination computation is included in the code below. Hence, you have a full working example of the concepts discussed in lecture 12.\n",
    "\n",
    "Lastly, there are some nice computational features of Python being used here to create compact code.  For example, the pairwise_product method.  Play with these features enough to understand what they are doing and how they simplify the code."
   ]
  },
  {
   "cell_type": "code",
   "execution_count": 6,
   "metadata": {
    "collapsed": true,
    "deletable": true,
    "editable": true
   },
   "outputs": [],
   "source": [
    "def raySphereTest(ray, sph) : \n",
    "    r  = sph['r']\n",
    "    Cv = sph['c']\n",
    "    Lv = ray['L']\n",
    "    Uv = ray['U']\n",
    "    Tv = vector(RR, 3, (Cv - Lv))\n",
    "    v    = Tv.dot_product(Uv) \n",
    "    csq  = Tv.dot_product(Tv) \n",
    "    disc = r^2 - (csq - v^2)\n",
    "    if (disc < 0) :\n",
    "        return [False]\n",
    "    else :\n",
    "        d  = sqrt(disc)\n",
    "        t  = v - d\n",
    "        pt = Lv + t * Uv\n",
    "        return [True, t, pt] \n",
    "        \n",
    "def raySphereRGB(ray, sph) :\n",
    "    hitp = raySphereTest(ray, sph)\n",
    "    if hitp[0] :\n",
    "        ptos = hitp[2]\n",
    "        snrm = ptos - sph['c'] ; snrm = snrm / snrm.norm()\n",
    "        color = ambient.pairwise_product(mat1['ka'])\n",
    "        for lt in lights :\n",
    "            ptL = lt['p']\n",
    "            emL = lt['e']\n",
    "            toL = ptL - ptos; toL = toL / toL.norm()\n",
    "            if (snrm.dot_product(toL) > 0.0) :\n",
    "                color += mat1['kd'].pairwise_product(emL) * snrm.dot_product(toL)\n",
    "                toC    = ray['L'] - ptos; toC = toC / toC.norm()\n",
    "                spR    = (2 * snrm.dot_product(toL) * snrm) - toL\n",
    "                color += mat1['ks'].pairwise_product(emL) * toC.dot_product(spR)**phong\n",
    "                # print(ray['L'], toC.dot_product(spR)**4)\n",
    "        return [True, color]\n",
    "    else :\n",
    "        return [False]"
   ]
  },
  {
   "cell_type": "markdown",
   "metadata": {
    "deletable": true,
    "editable": true
   },
   "source": [
    "### The Ray Tracer\n",
    "\n",
    "The following seven lines of code implement the top level of a ray tracer.  In general, something you should note is that your own code at the top level should be comparably simple.  If proper rules of information hiding are observed when writting a ray tracer than at the highest level to process is as simple - and compact - as shown. In particular, you will want to study the pixel value assignment line of code.  What is going on in that line of code, involving both the 'tuple' and 'map' command is extremely useful and also not immediately obvious to programmers unfamiliar with code of this kind.\n",
    "\n",
    "Finally, notice how the use of the SageMath Image class is handling a lot of complexity for us, including the display of the resulting color image.  "
   ]
  },
  {
   "cell_type": "code",
   "execution_count": 7,
   "metadata": {
    "collapsed": false,
    "deletable": true,
    "editable": true
   },
   "outputs": [
    {
     "data": {
      "image/png": "[encoded data removed]",
      "text/plain": [
       "64x64px 24-bit RGB image"
      ]
     },
     "execution_count": 7,
     "metadata": {},
     "output_type": "execute_result"
    }
   ],
   "source": [
    "img = Image('RGB', (width, height), 'black')\n",
    "pix = img.pixels()\n",
    "for i in range(width) :\n",
    "    for j in range(height) :\n",
    "        res = raySphereRGB(pixelRay(i,(height - j -1)), globe)\n",
    "        if res[0] :\n",
    "            pix[i,j] = tuple(map(lambda(x) : ZZ(max(0,min(255,round(255.0 * x)))), res[1]))\n",
    "img"
   ]
  },
  {
   "cell_type": "code",
   "execution_count": null,
   "metadata": {
    "collapsed": true,
    "deletable": true,
    "editable": true
   },
   "outputs": [],
   "source": []
  }
 ],
 "metadata": {
  "kernelspec": {
   "display_name": "SageMath 8.0",
   "language": "",
   "name": "sagemath"
  },
  "language_info": {
   "codemirror_mode": {
    "name": "ipython",
    "version": 2
   },
   "file_extension": ".py",
   "mimetype": "text/x-python",
   "name": "python",
   "nbconvert_exporter": "python",
   "pygments_lexer": "ipython2",
   "version": "2.7.13"
  }
 },
 "nbformat": 4,
 "nbformat_minor": 2
}
